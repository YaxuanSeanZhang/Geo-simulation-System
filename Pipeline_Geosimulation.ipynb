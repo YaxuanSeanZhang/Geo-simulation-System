{
 "cells": [
  {
   "cell_type": "markdown",
   "metadata": {},
   "source": [
    "#  Stink Bug Pipline"
   ]
  },
  {
   "cell_type": "markdown",
   "metadata": {},
   "source": [
    "This notebook grab data on the website. The data we used are city boundary, land cover, and stink bug data in Minnesota. The pipline includes data qaqc, simulation, model assessment, and pority ranking. The simulation includes three models: Monte Carlo, Gravity, and Huff model. And the priority ranking is based on the false positive predition for the current month and potential spread paths for the next a few months. The results uploaded to ArcOnline are four simulations maps (4 different months) and one priority map."
   ]
  },
  {
   "cell_type": "code",
   "execution_count": 11,
   "metadata": {},
   "outputs": [],
   "source": [
    "import arcpy\n",
    "import json\n",
    "import zipfile\n",
    "import pprint\n",
    "import requests\n",
    "from arcpy import env\n",
    "import os\n",
    "from zipfile import ZipFile\n",
    "import random\n",
    "import time\n",
    "import datetime\n",
    "import pandas as pd\n",
    "from dbfread import DBF\n",
    "import numpy as np\n",
    "from dateutil import relativedelta"
   ]
  },
  {
   "cell_type": "code",
   "execution_count": 48,
   "metadata": {},
   "outputs": [
    {
     "name": "stdout",
     "output_type": "stream",
     "text": [
      "Data extraction is done!\n"
     ]
    }
   ],
   "source": [
    "# Function to download a file from a URL and unzip it\n",
    "def get_data(url, local_directory):\n",
    "    response = requests.get(url)\n",
    "    file_name = os.path.join(local_directory, url.split(\"/\")[-1])\n",
    "\n",
    "    with open(file_name, \"wb\") as f:\n",
    "        f.write(response.content)\n",
    "        \n",
    "    with ZipFile(file_name, \"r\") as zip_ref:\n",
    "        zip_ref.extractall(local_directory)\n",
    "\n",
    "# Define local directory\n",
    "local_directory = r\"E:\\coursework\\ARCGIS2\\BMSMProject\\data\"\n",
    "# Create the local directory if it doesn't exist\n",
    "if not os.path.exists(local_directory):\n",
    "    os.makedirs(local_directory)\n",
    "\n",
    "# Define the URL\n",
    "boundary_url = \"https://resources.gisdata.mn.gov/pub/gdrs/data/pub/us_mn_state_dot/bdry_mn_city_township_unorg/shp_bdry_mn_city_township_unorg.zip\"\n",
    "bmsb_url = \"https://resources.gisdata.mn.gov/pub/gdrs/data/pub/us_mn_state_mda/biota_bmsb/shp_biota_bmsb.zip\"\n",
    "landcover_url = \"https://resources.gisdata.mn.gov/pub/gdrs/data/pub/us_mn_state_dnr/biota_landcover_nlcd_mn_2019/tif_biota_landcover_nlcd_mn_2019.zip\"\n",
    "\n",
    "get_data(boundary_url,local_directory)\n",
    "get_data(bmsb_url,local_directory)\n",
    "get_data(landcover_url,local_directory)\n",
    "\n",
    "print('Data extraction is done!')"
   ]
  },
  {
   "cell_type": "markdown",
   "metadata": {},
   "source": [
    "## Specify time interval (\"REAL-TIME\" DATA :))"
   ]
  },
  {
   "cell_type": "code",
   "execution_count": 64,
   "metadata": {},
   "outputs": [],
   "source": [
    "#PLEASE SECLECT A TIME INTERVAL YOU WANT TO SIMULATE \n",
    "#MUST BE AS THE FORMAT XXXX-XX\n",
    "#MUST WITHIN 2021-01 TO 2021-12\n",
    "Sim_time = '2021-06'\n",
    "\n",
    "Sim_time = datetime.datetime.strptime(Sim_time, '%Y-%m')\n",
    "Sim_year = Sim_time.year\n",
    "Sim_month = Sim_time.month"
   ]
  },
  {
   "cell_type": "markdown",
   "metadata": {},
   "source": [
    "## QAQC "
   ]
  },
  {
   "cell_type": "markdown",
   "metadata": {},
   "source": [
    "\n",
    "### BMSB data QAQC"
   ]
  },
  {
   "cell_type": "code",
   "execution_count": 65,
   "metadata": {},
   "outputs": [
    {
     "data": {
      "text/html": [
       "<div>\n",
       "<style scoped>\n",
       "    .dataframe tbody tr th:only-of-type {\n",
       "        vertical-align: middle;\n",
       "    }\n",
       "\n",
       "    .dataframe tbody tr th {\n",
       "        vertical-align: top;\n",
       "    }\n",
       "\n",
       "    .dataframe thead th {\n",
       "        text-align: right;\n",
       "    }\n",
       "</style>\n",
       "<table border=\"1\" class=\"dataframe\">\n",
       "  <thead>\n",
       "    <tr style=\"text-align: right;\">\n",
       "      <th></th>\n",
       "      <th>SiteName</th>\n",
       "      <th>City</th>\n",
       "      <th>Latitude</th>\n",
       "      <th>Longitude</th>\n",
       "      <th>Year</th>\n",
       "      <th>CheckDate</th>\n",
       "      <th>Adults</th>\n",
       "      <th>Nymphs</th>\n",
       "      <th>month</th>\n",
       "      <th>ObsNum</th>\n",
       "    </tr>\n",
       "  </thead>\n",
       "  <tbody>\n",
       "    <tr>\n",
       "      <th>55</th>\n",
       "      <td>AFTON APPLE ORCHARD</td>\n",
       "      <td>HASTINGS</td>\n",
       "      <td>44.818630</td>\n",
       "      <td>-92.813420</td>\n",
       "      <td>2015.0</td>\n",
       "      <td>2015-09-23</td>\n",
       "      <td>1.0</td>\n",
       "      <td>0.0</td>\n",
       "      <td>9</td>\n",
       "      <td>1.0</td>\n",
       "    </tr>\n",
       "    <tr>\n",
       "      <th>122</th>\n",
       "      <td>AFTON APPLE ORCHARD</td>\n",
       "      <td>HASTINGS</td>\n",
       "      <td>44.818870</td>\n",
       "      <td>-92.813330</td>\n",
       "      <td>2018.0</td>\n",
       "      <td>2018-09-27</td>\n",
       "      <td>1.0</td>\n",
       "      <td>0.0</td>\n",
       "      <td>9</td>\n",
       "      <td>1.0</td>\n",
       "    </tr>\n",
       "    <tr>\n",
       "      <th>133</th>\n",
       "      <td>AFTON APPLE ORCHARD</td>\n",
       "      <td>HASTINGS</td>\n",
       "      <td>44.818654</td>\n",
       "      <td>-92.813416</td>\n",
       "      <td>2019.0</td>\n",
       "      <td>2019-09-25</td>\n",
       "      <td>3.0</td>\n",
       "      <td>0.0</td>\n",
       "      <td>9</td>\n",
       "      <td>3.0</td>\n",
       "    </tr>\n",
       "    <tr>\n",
       "      <th>197</th>\n",
       "      <td>ALEXIS BAILLY VINEYARD</td>\n",
       "      <td>HASTINGS</td>\n",
       "      <td>44.686010</td>\n",
       "      <td>-92.871800</td>\n",
       "      <td>2020.0</td>\n",
       "      <td>2020-09-10</td>\n",
       "      <td>1.0</td>\n",
       "      <td>0.0</td>\n",
       "      <td>9</td>\n",
       "      <td>1.0</td>\n",
       "    </tr>\n",
       "    <tr>\n",
       "      <th>548</th>\n",
       "      <td>BATTLE CREEK</td>\n",
       "      <td>SAINT PAUL</td>\n",
       "      <td>44.916890</td>\n",
       "      <td>-93.010860</td>\n",
       "      <td>2016.0</td>\n",
       "      <td>2016-10-12</td>\n",
       "      <td>58.0</td>\n",
       "      <td>3.0</td>\n",
       "      <td>10</td>\n",
       "      <td>61.0</td>\n",
       "    </tr>\n",
       "    <tr>\n",
       "      <th>...</th>\n",
       "      <td>...</td>\n",
       "      <td>...</td>\n",
       "      <td>...</td>\n",
       "      <td>...</td>\n",
       "      <td>...</td>\n",
       "      <td>...</td>\n",
       "      <td>...</td>\n",
       "      <td>...</td>\n",
       "      <td>...</td>\n",
       "      <td>...</td>\n",
       "    </tr>\n",
       "    <tr>\n",
       "      <th>7363</th>\n",
       "      <td>Alexis BAILLY VINEYARD</td>\n",
       "      <td>HASTINGS</td>\n",
       "      <td>44.686019</td>\n",
       "      <td>-92.870200</td>\n",
       "      <td>2021.0</td>\n",
       "      <td>2021-06-15</td>\n",
       "      <td>1.0</td>\n",
       "      <td>0.0</td>\n",
       "      <td>6</td>\n",
       "      <td>1.0</td>\n",
       "    </tr>\n",
       "    <tr>\n",
       "      <th>7441</th>\n",
       "      <td>AAMODT'S APPLE FARM</td>\n",
       "      <td>STILLWATER</td>\n",
       "      <td>45.043163</td>\n",
       "      <td>-92.865885</td>\n",
       "      <td>2021.0</td>\n",
       "      <td>2021-06-08</td>\n",
       "      <td>1.0</td>\n",
       "      <td>0.0</td>\n",
       "      <td>6</td>\n",
       "      <td>1.0</td>\n",
       "    </tr>\n",
       "    <tr>\n",
       "      <th>7468</th>\n",
       "      <td>BLAINE COMMUNITY GARDEN</td>\n",
       "      <td>BLAINE</td>\n",
       "      <td>45.164482</td>\n",
       "      <td>-93.209164</td>\n",
       "      <td>2021.0</td>\n",
       "      <td>2021-06-09</td>\n",
       "      <td>1.0</td>\n",
       "      <td>0.0</td>\n",
       "      <td>6</td>\n",
       "      <td>1.0</td>\n",
       "    </tr>\n",
       "    <tr>\n",
       "      <th>7485</th>\n",
       "      <td>EIDEM ESTATE COMMUNITY GARDEN</td>\n",
       "      <td>BROOKLYN PARK</td>\n",
       "      <td>45.135605</td>\n",
       "      <td>-93.336618</td>\n",
       "      <td>2021.0</td>\n",
       "      <td>2021-06-09</td>\n",
       "      <td>1.0</td>\n",
       "      <td>0.0</td>\n",
       "      <td>6</td>\n",
       "      <td>1.0</td>\n",
       "    </tr>\n",
       "    <tr>\n",
       "      <th>7685</th>\n",
       "      <td>MINNESOTA LANDSCAPE ARBORETUM</td>\n",
       "      <td>VICTORIA</td>\n",
       "      <td>44.868739</td>\n",
       "      <td>-93.634326</td>\n",
       "      <td>2021.0</td>\n",
       "      <td>2021-06-22</td>\n",
       "      <td>1.0</td>\n",
       "      <td>0.0</td>\n",
       "      <td>6</td>\n",
       "      <td>1.0</td>\n",
       "    </tr>\n",
       "  </tbody>\n",
       "</table>\n",
       "<p>466 rows × 10 columns</p>\n",
       "</div>"
      ],
      "text/plain": [
       "                           SiteName           City  ...  month  ObsNum\n",
       "55              AFTON APPLE ORCHARD       HASTINGS  ...      9     1.0\n",
       "122             AFTON APPLE ORCHARD       HASTINGS  ...      9     1.0\n",
       "133             AFTON APPLE ORCHARD       HASTINGS  ...      9     3.0\n",
       "197          ALEXIS BAILLY VINEYARD       HASTINGS  ...      9     1.0\n",
       "548                    BATTLE CREEK     SAINT PAUL  ...     10    61.0\n",
       "...                             ...            ...  ...    ...     ...\n",
       "7363         Alexis BAILLY VINEYARD       HASTINGS  ...      6     1.0\n",
       "7441            AAMODT'S APPLE FARM     STILLWATER  ...      6     1.0\n",
       "7468        BLAINE COMMUNITY GARDEN         BLAINE  ...      6     1.0\n",
       "7485  EIDEM ESTATE COMMUNITY GARDEN  BROOKLYN PARK  ...      6     1.0\n",
       "7685  MINNESOTA LANDSCAPE ARBORETUM       VICTORIA  ...      6     1.0\n",
       "\n",
       "[466 rows x 10 columns]"
      ]
     },
     "execution_count": 65,
     "metadata": {},
     "output_type": "execute_result"
    }
   ],
   "source": [
    "# Convert BMSB table to pandas df\n",
    "bmsb_dbf = DBF(os.path.join(local_directory,'BMSBSurveyDataTable.dbf'))\n",
    "\n",
    "bmsb_df = pd.DataFrame(iter(bmsb_dbf))\n",
    "\n",
    "#clean and format data\n",
    "bmsb_df = bmsb_df[[\"SiteName\", \"City\", \"Latitude\", \"Longitude\", \"Year\",'CheckDate','Adults','Nymphs']].copy()\n",
    "bmsb_df = bmsb_df.dropna(subset=[\"Latitude\", \"Longitude\", 'CheckDate','Adults','Nymphs'])\n",
    "bmsb_df[\"CheckDate\"] = bmsb_df[\"CheckDate\"].astype('datetime64[ns]')\n",
    "bmsb_df[\"month\"] = pd.DatetimeIndex(bmsb_df[\"CheckDate\"]).month\n",
    "\n",
    "#bounding box\n",
    "bmsb_df = bmsb_df[(bmsb_df[\"Longitude\"] > -97.239) & (bmsb_df[\"Longitude\"] < -89.492) &\n",
    "                              (bmsb_df[\"Latitude\"] > 43.499) & (bmsb_df[\"Latitude\"] < 49.384)]\n",
    "\n",
    "#calculate bmsb_dfnum of obs\n",
    "bmsb_df['ObsNum'] = bmsb_df['Adults'] + bmsb_df['Nymphs']\n",
    "\n",
    "\n",
    "bmsb_df = bmsb_df[bmsb_df['ObsNum']>0]\n",
    "\n",
    "#get the bmsb data within the time range\n",
    "bmsb_df = bmsb_df[(bmsb_df['Year']<Sim_year)|((bmsb_df['Year']==Sim_year) & (bmsb_df['month']<=Sim_month))]\n",
    "\n",
    "bmsb_df"
   ]
  },
  {
   "cell_type": "code",
   "execution_count": 66,
   "metadata": {},
   "outputs": [],
   "source": [
    "arcpy.env.workspace = \"E:\\coursework\\ARCGIS2\\BMSMProject\\data\"\n",
    "\n",
    "sr = arcpy.SpatialReference(4326) # WGS 1984\n",
    "\n",
    "# create a new feature class\n",
    "arcpy.CreateFeatureclass_management(arcpy.env.workspace, \"bmsb\", \"POINT\",spatial_reference=sr)\n",
    "\n",
    "# add fields to the feature class\n",
    "arcpy.AddField_management(\"bmsb.shp\", \"SiteName\", \"Text\")\n",
    "arcpy.AddField_management(\"bmsb.shp\", \"City\", \"Text\")\n",
    "arcpy.AddField_management(\"bmsb.shp\", \"Latitude\", \"Double\")\n",
    "arcpy.AddField_management(\"bmsb.shp\", \"Longitude\", 'Double')\n",
    "arcpy.AddField_management(\"bmsb.shp\", \"CheckDate\", 'Date')\n",
    "arcpy.AddField_management(\"bmsb.shp\", \"month\", \"Short\")\n",
    "arcpy.AddField_management(\"bmsb.shp\", \"Year\", \"Short\")\n",
    "arcpy.AddField_management(\"bmsb.shp\", \"ObsNum\", \"Short\")\n",
    "#arcpy.AddField_management(\"bmsb.shp\", \"Presence\", \"Short\")\n",
    "\n",
    "# insert data into the feature class\n",
    "cursor = arcpy.da.InsertCursor(\"bmsb.shp\", [\"SHAPE@\", \"SiteName\", \"City\",\"Latitude\",'Longitude','CheckDate','month','Year','ObsNum'])\n",
    "for index,row in bmsb_df.iterrows():\n",
    "    point = arcpy.Point(row[3], row[2])\n",
    "    cursor.insertRow([point, row[0], row[1],row[2], row[3],row[5], row[8],row[4], row[9]])\n",
    "del cursor"
   ]
  },
  {
   "cell_type": "markdown",
   "metadata": {},
   "source": [
    "### City data QAQC"
   ]
  },
  {
   "cell_type": "code",
   "execution_count": 85,
   "metadata": {},
   "outputs": [
    {
     "data": {
      "text/html": [
       "<div class='gpresult'><h2>Messages</h2><div id='messages' data-messages='[\"Start Time: Friday, April 28, 2023 12:18:01 PM\",\"Succeeded at Friday, April 28, 2023 12:18:02 PM (Elapsed Time: 0.48 seconds)\"]' data-show='true'><div id = 'default' /></div></div>"
      ],
      "text/plain": [
       "<Result 'E:\\\\coursework\\\\ARCGIS2\\\\BMSMProject\\\\data\\\\City_Point.shp'>"
      ]
     },
     "execution_count": 85,
     "metadata": {},
     "output_type": "execute_result"
    }
   ],
   "source": [
    "#saves city polygons\n",
    "#expression = \n",
    "arcpy.conversion.FeatureClassToFeatureClass(\"city_township_unorg\", \n",
    "                                            \"E:\\coursework\\ARCGIS2\\BMSMProject\\data\", \n",
    "                                            \"City.shp\", \"CTU_CLASS = 'CITY'\")\n",
    "\n",
    "#make sure the spatial reference system is 4326\n",
    "sr = arcpy.SpatialReference(4326) # WGS 1984\n",
    "arcpy.management.Project(\"City.shp\", r\"City_reproject.shp\", sr)\n",
    "\n",
    "#merge cities with the same name\n",
    "arcpy.management.Dissolve(\"City_reproject\", \"City_qaqc_done\", \"FEATURE_NA\", [[\"POPULATION\", 'SUM']])\n",
    "\n",
    "# Alter name FEATURE_NA to CITY_NAME\n",
    "arcpy.management.CalculateField(\"City_qaqc_done\", \"CITY_NAME\", \"!FEATURE_NA!\")\n",
    "arcpy.management.CalculateField(\"City_qaqc_done\", \"POPULATION\", \"!SUM_POPULA!\",field_type = 'LONG')\n",
    "\n",
    "#delete unnecessary columns\n",
    "arcpy.management.DeleteField(\"City_qaqc_done\", \"CITY_NAME;POPULATION\", \"KEEP_FIELDS\")\n",
    "\n",
    "#convert each City to points (has been poylgons until now)\n",
    "arcpy.management.FeatureToPoint(\"City_qaqc_done\", \"City_Point.shp\", \"CENTROID\")\n",
    "arcpy.management.DeleteField(\"City_Point\", \"CITY_NAME;POPULATION\", \"KEEP_FIELDS\")\n",
    "\n",
    "#simulation city shp layer\n",
    "arcpy.CopyFeatures_management(\"City_Point\", \"City_Pred_0\")\n",
    "#prediction city shp layer\n",
    "arcpy.CopyFeatures_management(\"City_Point\", \"City_Pred_1\")\n",
    "arcpy.CopyFeatures_management(\"City_Point\", \"City_Pred_2\")\n",
    "arcpy.CopyFeatures_management(\"City_Point\", \"City_Pred_3\")"
   ]
  },
  {
   "cell_type": "markdown",
   "metadata": {},
   "source": [
    "### Land Cover QAQC"
   ]
  },
  {
   "cell_type": "code",
   "execution_count": 4,
   "metadata": {},
   "outputs": [
    {
     "data": {
      "text/html": [
       "<div class='gpresult'><h2>Messages</h2><div id='messages' data-messages='[\"Start Time: Monday, May 1, 2023 4:43:48 PM\",\"Building Pyramids...\",\"Succeeded at Monday, May 1, 2023 4:44:04 PM (Elapsed Time: 15.42 seconds)\"]' data-show='true'><div id = 'default' /></div></div>"
      ],
      "text/plain": [
       "<Result 'E:\\\\coursework\\\\ARCGIS2\\\\BMSMProject\\\\data\\\\LC.tif'>"
      ]
     },
     "execution_count": 4,
     "metadata": {},
     "output_type": "execute_result"
    }
   ],
   "source": [
    "#bounding box\n",
    "arcpy.management.Clip('NLCD_2019_Land_Cover.tif', \"132660 4774410 791819 5491608\", 'LC.tif')\n",
    "\n",
    "# clip landcover data to each city polygon\n",
    "out_raster = arcpy.sa.ExtractByMask(\"LC.tif\", \"City_qaqc_done\", \"INSIDE\")\n",
    "out_raster.save(r\"LC_City\")\n",
    "\n",
    "# Convert raster to points with the pixel count value for each point and land class\n",
    "arcpy.conversion.RasterToPoint(\"LC_City\", r\"LC_City_point\", \"NLCD_LAND\")\n",
    "\n",
    "# Spatial Join the points to city polygon shapefile\n",
    "arcpy.analysis.SpatialJoin(\"LC_City_point\", \"City_qaqc_done\", r\"LC_City_point_spatialjoin\", \"JOIN_ONE_TO_ONE\", \"KEEP_ALL\")\n",
    "\n",
    "# calculate the total count of pixels by city\n",
    "arcpy.Statistics_analysis(\"LC_City_point_spatialjoin\", \"output_table\",[[\"NLCD_LAND\", \"COUNT\"]], \"CITY_NAME\")\n",
    "\n",
    "attributes_to_match = [\n",
    "    \"Open Water\",\n",
    "    \"Barren Land (Rock/Sand/Clay)\",\n",
    "    \"Deciduous Forest\",\n",
    "    \"Evergreen forest\",\n",
    "    \"Mixed forest\",\n",
    "    \"shrub/scrub\",\n",
    "    \"Grassland/Herbaceous\",\n",
    "    \"Pasture/Hay\",\n",
    "    \"Cultivated Crops\",\n",
    "    \"Woody Wetlands\",\n",
    "    \"Emergent Herbaceous Wetlands\"\n",
    "]\n",
    "\n",
    "\n",
    "# Make a feature layer from the input feature class\n",
    "arcpy.MakeFeatureLayer_management(\"LC_City_point_spatialjoin\", \"LC_City_AG\")\n",
    "\n",
    "# Use a SQL expression to filter the layer based on the desired attributes\n",
    "sql_expression = f\"{arcpy.AddFieldDelimiters(\"LC_City_AG\", 'NLCD_LAND')} IN {tuple(attributes_to_match)}\"\n",
    "arcpy.SelectLayerByAttribute_management(\"LC_City_AG\", \"NEW_SELECTION\", sql_expression)\n",
    "\n",
    "arcpy.Statistics_analysis(\"LC_City_AG\", \"output_table_agriculture\", [[\"NLCD_LAND\", \"COUNT\"]], \"CITY_NAME\")\n",
    "\n",
    "#join two output tables\n",
    "arcpy.management.AddJoin(\"output_table_agriculture\", \"CITY_NAME\", \"output_table\",  \"CITY_NAME\", \"KEEP_ALL\")\n",
    "\n",
    "#add field for ag_percentage\n",
    "arcpy.management.AddField(\"output_table_agriculture\", \"ag_percentage\", \"DOUBLE\")\n",
    "\n",
    "# calculate the ag_percentage by dividng the agricultural field by total pixel count\n",
    "arcpy.management.CalculateField(\"output_table_agriculture\", \"ag_percentage\", \"!FREQUENCY! / !FREQUENCY_1!\", \"PYTHON3\", '', \"TEXT\", \"NO_ENFORCE_DOMAINS\")\n"
   ]
  },
  {
   "cell_type": "markdown",
   "metadata": {},
   "source": [
    "### Generate City FROM-TO table"
   ]
  },
  {
   "cell_type": "code",
   "execution_count": 80,
   "metadata": {},
   "outputs": [
    {
     "data": {
      "text/html": [
       "<div class='gpresult'><h2>Messages</h2><div id='messages' data-messages='[\"Start Time: Sunday, April 30, 2023 1:43:59 PM\",\"Determining data processing extents...\",\"Building a neighborhood index from the Near Features...\",\"Generating Near Table...\",\"Found 728462 feature(s)\",\"Succeeded at Sunday, April 30, 2023 1:44:13 PM (Elapsed Time: 13.36 seconds)\"]' data-show='true'><div id = 'default' /></div></div>"
      ],
      "text/plain": [
       "<Result 'E:\\\\coursework\\\\ARCGIS2\\\\BMSMProject\\\\Default.gdb\\\\City_FromToTable'>"
      ]
     },
     "execution_count": 80,
     "metadata": {},
     "output_type": "execute_result"
    }
   ],
   "source": [
    "#generate from-to table\n",
    "arcpy.analysis.GenerateNearTable(\"City_Point\", \"City_Point\", \"E:\\coursework\\ARCGIS2\\BMSMProject\\Default.gdb\\City_FromToTable\", closest = \"ALL\", method = \"GEODESIC\")"
   ]
  },
  {
   "cell_type": "code",
   "execution_count": 81,
   "metadata": {},
   "outputs": [
    {
     "data": {
      "text/html": [
       "<div class='gpresult'><h2>Messages</h2><div id='messages' data-messages='[\"Start Time: Sunday, April 30, 2023 1:46:45 PM\",\"Succeeded at Sunday, April 30, 2023 1:46:45 PM (Elapsed Time: 0.14 seconds)\"]' data-show='true'><div id = 'default' /></div></div>"
      ],
      "text/plain": [
       "<Result 'City_FromToTable'>"
      ]
     },
     "execution_count": 81,
     "metadata": {},
     "output_type": "execute_result"
    }
   ],
   "source": [
    "arcpy.env.workspace = \"E:\\coursework\\ARCGIS2\\BMSMProject\\Default.gdb\"\n",
    "\n",
    "#delete unnecessary columns\n",
    "arcpy.management.DeleteField(\"City_FromToTable\", \"IN_FID;NEAR_FID;NEAR_DIST\", \"KEEP_FIELDS\")\n",
    "\n",
    "#format from-to city and population\n",
    "arcpy.management.JoinField(\"City_FromToTable\", \"IN_FID\", \"City_qaqc_done\", \"FID\", [\"CITY_NAME\",'POPULATION'])\n",
    "arcpy.management.AlterField(\"City_FromToTable\", \"CITY_NAME\", 'FROM_CITY','FROM_CITY')\n",
    "arcpy.management.AlterField(\"City_FromToTable\", \"POPULATION\", 'FROM_POP','FROM_POP')\n",
    "arcpy.management.JoinField(\"City_FromToTable\", \"NEAR_FID\", \"City_qaqc_done\", \"FID\", [\"CITY_NAME\",'POPULATION'])\n",
    "arcpy.management.AlterField(\"City_FromToTable\", \"CITY_NAME\", 'TO_CITY','TO_CITY')\n",
    "arcpy.management.AlterField(\"City_FromToTable\", \"POPULATION\", 'TO_POP','TO_POP')"
   ]
  },
  {
   "cell_type": "code",
   "execution_count": 15,
   "metadata": {},
   "outputs": [
    {
     "data": {
      "text/html": [
       "<div class='gpresult'><h2>Messages</h2><div id='messages' data-messages='[\"Start Time: Sunday, April 30, 2023 2:48:44 PM\",\"Succeeded at Sunday, April 30, 2023 2:49:24 PM (Elapsed Time: 40.07 seconds)\"]' data-show='true'><div id = 'default' /></div></div>"
      ],
      "text/plain": [
       "<Result 'E:\\\\coursework\\\\ARCGIS2\\\\BMSMProject\\\\Default.gdb\\\\City_FromToTable_Final'>"
      ]
     },
     "execution_count": 15,
     "metadata": {},
     "output_type": "execute_result"
    }
   ],
   "source": [
    "arcpy.JoinField_management(\"City_FromToTable\", \"TO_CITY\", \"output_table_agriculture\", \"CITY_NAME\")\n",
    "arcpy.TableToTable_conversion(\"City_FromToTable\", r\"E:\\coursework\\ARCGIS2\\BMSMProject\\Default.gdb\", \"City_FromToTable_Final\")"
   ]
  },
  {
   "cell_type": "markdown",
   "metadata": {},
   "source": [
    "### Monte Carlo Simulation"
   ]
  },
  {
   "cell_type": "code",
   "execution_count": 93,
   "metadata": {},
   "outputs": [],
   "source": [
    "def sim_pred(FromToTable,SimLayer,method,PresenceCity,num_month,G,i):\n",
    "    for j in range(0, num_month):\n",
    "        with arcpy.da.SearchCursor(FromToTable,\"*\") as cursor:\n",
    "            for row in cursor:\n",
    "                if method == 'MC':\n",
    "                    if row[4] in PresenceCity and row[6] not in PresenceCity and row[3]<=distance_threhold:\n",
    "                        prob = max(0, random.normalvariate(0.024, 0.1 * 0.024))\n",
    "                        if random.random()<= prob:\n",
    "                            PresenceCity.append(row[6])\n",
    "                elif method == 'G':\n",
    "                    if row[4] in PresenceCity and row[6] not in PresenceCity:\n",
    "                        if random.random()<= G * row[10]:\n",
    "                            PresenceCity.append(row[6])\n",
    "                elif method == 'H':\n",
    "                    if row[4] in PresenceCity and row[6] not in PresenceCity:\n",
    "                        if random.random()<= G * row[11]:\n",
    "                            PresenceCity.append(row[6])\n",
    "                else:\n",
    "                    print('Please select methods among MC/G/H')\n",
    "                    break\n",
    "\n",
    "    if num_month > 1:\n",
    "        print(f\"Simulation{i}:{PresenceCity}\")\n",
    "        \n",
    "    # adds presence column for each simulation\n",
    "    arcpy.management.AddField(SimLayer, f\"Pred{i}\", \"SHORT\")\n",
    "        \n",
    "    with arcpy.da.UpdateCursor(SimLayer,\"*\") as cursor:\n",
    "        for row in cursor:\n",
    "            if method == 'MC':\n",
    "                if row[2] in PresenceCity:\n",
    "                    row[(4+i)] = 1\n",
    "                else:\n",
    "                    row[(4+i)] = 0\n",
    "                cursor.updateRow(row)\n",
    "            elif method == 'G':\n",
    "                if row[2] in PresenceCity:\n",
    "                    row[(5+i)] = 1\n",
    "                else:\n",
    "                    row[(5+i)] = 0\n",
    "                cursor.updateRow(row)\n",
    "            elif method == 'H':\n",
    "                if row[2] in PresenceCity:\n",
    "                    row[(6+i)] = 1\n",
    "                else:\n",
    "                    row[(6+i)] = 0\n",
    "                cursor.updateRow(row)\n",
    "    return PresenceCity"
   ]
  },
  {
   "cell_type": "code",
   "execution_count": 69,
   "metadata": {},
   "outputs": [],
   "source": [
    "def final_result(Layer,method):\n",
    "    with arcpy.da.UpdateCursor(Layer,\"*\") as cursor:\n",
    "        for row in cursor:\n",
    "            if method == 'MC':\n",
    "                if sum(row[4:34])>15:\n",
    "                    row[34] = 1\n",
    "                else:\n",
    "                    row[34] = 0\n",
    "                cursor.updateRow(row)\n",
    "            elif method == 'G':\n",
    "                if sum(row[5:35])>15:\n",
    "                    row[35] = 1\n",
    "                else:\n",
    "                    row[35] = 0\n",
    "                cursor.updateRow(row)\n",
    "            elif method == 'H':\n",
    "                if sum(row[6:36])>15:\n",
    "                    row[36] = 1\n",
    "                else:\n",
    "                    row[36] = 0\n",
    "                cursor.updateRow(row)"
   ]
  },
  {
   "cell_type": "code",
   "execution_count": 94,
   "metadata": {},
   "outputs": [
    {
     "name": "stdout",
     "output_type": "stream",
     "text": [
      "Simulation0:['Minneapolis', 'Roseville', 'Fridley', 'Brooklyn Center', 'Vadnais Heights', 'West Saint Paul', 'Gem Lake', 'Birchwood Village', 'New Hope', 'Mounds View', 'Robbinsdale', 'North Oaks', 'Circle Pines', 'Medicine Lake', 'Crystal', 'Maple Grove', 'Arden Hills', 'Minnetonka', 'Shoreview', 'Wayzata', 'Woodland', 'Brooklyn Park', 'New Brighton', 'Lauderdale', 'Hilltop']\n",
      "Simulation1:['Minneapolis', 'Lauderdale', 'Fridley', 'Mendota', 'Osseo', 'Shoreview', 'South Saint Paul', 'Falcon Heights', 'Richfield', 'Edina', 'Golden Valley', 'Medicine Lake', 'Bloomington', 'Brooklyn Center', 'North Saint Paul', 'Saint Louis Park', 'Hopkins', 'Mounds View', 'Eagan', 'Maplewood', 'Brooklyn Park', 'New Hope', 'Pine Springs', 'West Saint Paul', 'Plymouth', 'Crystal', 'Mendota Heights', 'Vadnais Heights', 'Coon Rapids', 'Champlin', 'Robbinsdale', 'Columbia Heights', 'Roseville', 'Lexington', 'Saint Anthony', 'Gem Lake', 'Mahtomedi', 'Oakdale', 'Saint Paul', 'Dayton', 'Lilydale', 'Newport', 'Wayzata', 'Landfall', 'Inver Grove Heights']\n",
      "Simulation2:['Minneapolis', 'Saint Louis Park', 'Woodland', 'Lilydale', 'Richfield', 'Mendota', 'Robbinsdale', 'Hilltop', 'Brooklyn Park', 'Chanhassen', 'Roseville', 'Lauderdale', 'Sunfish Lake', 'Greenwood', 'Medina', 'Maple Plain', 'Plymouth', 'Mendota Heights', 'Falcon Heights', 'White Bear Lake', 'Birchwood Village', 'Dellwood', 'Excelsior', 'Willernie', 'Shoreview', 'Shorewood', 'Long Lake', 'Golden Valley', 'Spring Lake Park', 'Hopkins', 'North Oaks', 'Maplewood', 'Deephaven', 'Gem Lake', 'Minnetonka', 'West Saint Paul', 'Tonka Bay', 'Maple Grove', 'Wayzata', 'Brooklyn Center', 'Loretto', 'Saint Anthony', 'Mounds View', 'Independence', 'Minnetonka Beach', 'Greenfield', 'Mound', 'Inver Grove Heights', 'Columbia Heights', 'Rogers', 'Fridley', 'Saint Bonifacius']\n",
      "Simulation3:['Minneapolis', 'Robbinsdale', 'Edina', 'Columbia Heights', 'Golden Valley', 'Hilltop', 'New Hope', 'Lauderdale', 'Roseville', 'White Bear Lake', 'Mounds View', 'Hopkins', 'Brooklyn Center', 'North Oaks', 'Falcon Heights', 'Gem Lake', 'Lexington', 'Circle Pines', 'Greenwood', 'Ham Lake', 'Centerville', 'Vadnais Heights', 'Medina', 'Saint Louis Park', 'Little Canada', 'Grant', 'Pine Springs', 'Maplewood', 'New Brighton', 'Stillwater', 'Arden Hills', 'Saint Paul']\n",
      "Simulation4:['Minneapolis', 'Lauderdale', 'Medicine Lake', 'Little Canada', 'Mounds View', 'West Saint Paul', 'Saint Louis Park', 'Woodland', 'Crystal', 'Roseville', 'Shoreview', 'New Brighton', 'Lilydale', 'Hopkins', 'Shorewood', 'Spring Park', 'Robbinsdale', 'Richfield', 'Tonka Bay', 'Edina', 'Wayzata', 'Mendota Heights', 'Newport', 'Spring Lake Park', 'Brooklyn Center', 'Excelsior', 'Deephaven', 'Minnetrista', 'Orono', 'New Hope', 'Minnetonka', 'Greenwood', 'Pine Springs', 'Golden Valley', 'Blaine', 'Lexington', 'Brooklyn Park', 'Chanhassen', 'Osseo', 'Hilltop', 'Mendota', 'Circle Pines', 'North Oaks', 'Lino Lakes', 'Birchwood Village', 'Coon Rapids', 'Burnsville', 'Long Lake', 'Bloomington', 'Saint Paul', 'South Saint Paul', 'Maplewood', 'Maple Plain', 'Maple Grove', 'Mound', 'Fridley', 'Victoria', 'Woodbury', 'Chaska', 'Plymouth']\n",
      "Simulation5:['Minneapolis', 'Mendota', 'New Hope', 'Roseville', 'New Brighton', 'Blaine', 'Brooklyn Center', 'Brooklyn Park', 'Hilltop', 'Fridley', 'Andover', 'Shoreview', 'North Oaks', 'Golden Valley', 'Lexington', 'Arden Hills', 'Coon Rapids', 'West Saint Paul', 'Champlin', 'Falcon Heights', 'Spring Lake Park', 'Mahtomedi', 'Crystal', 'Minnetonka', 'Gem Lake', 'Centerville', 'Deephaven', 'Columbia Heights', 'White Bear Lake', 'Mounds View']\n",
      "Simulation6:['Minneapolis', 'Fridley', 'Brooklyn Center', 'Golden Valley', 'Crystal', 'Roseville', 'Columbia Heights', 'Saint Louis Park', 'Mounds View', 'Plymouth', 'Champlin', 'Hilltop', 'Robbinsdale', 'Centerville', 'Medicine Lake', 'Brooklyn Park', 'Little Canada', 'New Brighton', 'Wayzata', 'Maple Grove', 'Falcon Heights', 'Minnetonka Beach', 'New Hope', 'Gem Lake', 'Osseo', 'Shoreview', 'Woodland', 'Greenwood', 'Dellwood', 'Dayton', 'Coon Rapids', 'Vadnais Heights', 'Medina', 'Maple Plain', 'Tonka Bay', 'Mendota', 'Minnetonka', 'Lexington', 'Loretto']\n",
      "Simulation7:['Minneapolis', 'Richfield', 'Roseville', 'Eagan', 'Apple Valley', 'Bloomington', 'Mounds View']\n",
      "Simulation8:['Minneapolis', 'Columbia Heights', 'Spring Lake Park', 'Falcon Heights', 'Lauderdale', 'Lilydale', 'Fridley', 'Maplewood', 'Saint Louis Park', 'Hilltop', 'Mendota Heights', 'Little Canada', 'Pine Springs', 'West Saint Paul', 'Landfall', 'Woodbury', 'Vadnais Heights', 'Arden Hills', 'Golden Valley', 'New Brighton', 'Brooklyn Center', 'Roseville', 'Saint Paul', 'Eagan', 'Blaine', 'Mounds View', 'White Bear Lake', 'Shoreview', 'Woodland', 'Circle Pines', 'North Oaks', 'Gem Lake', 'Lexington', 'Centerville', 'North Saint Paul', 'Coon Rapids', 'Hugo', 'Crystal', 'Saint Paul Park', 'Mendota', 'Sunfish Lake', 'Lino Lakes', 'Wayzata', 'Birchwood Village', 'South Saint Paul', 'Richfield', 'Oakdale', 'Newport', 'Ham Lake', 'Cottage Grove', 'Spring Park']\n",
      "Simulation9:['Minneapolis', 'New Brighton', 'Lauderdale', 'North Oaks', 'Robbinsdale', 'Medicine Lake', 'Hilltop', 'Brooklyn Center', 'Saint Louis Park', 'Deephaven', 'Minnetonka Beach', 'Columbia Heights', 'Spring Lake Park', 'Edina', 'Golden Valley', 'Fridley', 'Wayzata', 'Minnetonka', 'Medina', 'Woodland', 'Blaine', 'Ham Lake', 'Plymouth']\n",
      "Simulation10:['Minneapolis', 'Columbia Heights', 'New Hope', 'Mendota Heights', 'Crystal', 'Fridley', 'Falcon Heights', 'Brooklyn Park', 'Shoreview', 'Maple Grove', 'New Brighton', 'Plymouth', 'Arden Hills', 'Hopkins', 'Spring Lake Park', 'Saint Anthony', 'Osseo', 'Corcoran', 'Brooklyn Center', 'Independence', 'Edina', 'Greenfield', 'Mound', 'Little Canada', 'Roseville', 'Golden Valley', 'Robbinsdale', 'Tonka Bay', 'Circle Pines', 'Minnetonka', 'Orono', 'Gem Lake', 'Hilltop', 'North Oaks', 'Deephaven', 'Saint Bonifacius', 'Mounds View', 'Willernie', 'Maplewood', 'Medicine Lake', 'Spring Park', 'Lino Lakes', 'Hugo']\n",
      "Simulation11:['Minneapolis', 'Golden Valley', 'Saint Paul', 'Plymouth', 'Landfall', 'Oakdale', 'Willernie', 'Maplewood', 'Little Canada', 'Hopkins', 'Vadnais Heights', 'Lauderdale', 'Mendota', 'Crystal', 'Hilltop', 'Birchwood Village', 'New Hope', 'Saint Anthony', 'Gem Lake', 'Long Lake', 'Grant', 'Dellwood', 'Columbia Heights', 'Arden Hills', 'Blaine', 'Mahtomedi', 'Maple Plain', 'Falcon Heights', 'White Bear Lake', 'Lexington', 'Lake Elmo', 'Roseville', 'North Oaks', 'Brooklyn Center', 'Robbinsdale', 'Newport', 'Medina', 'Sunfish Lake', 'Stillwater', 'West Saint Paul', 'Centerville', 'Circle Pines', 'Ham Lake', 'Minnetonka Beach', 'Spring Lake Park', 'Brooklyn Park', 'Mounds View', 'Greenfield', 'Inver Grove Heights', 'Maple Grove', 'Woodbury', 'New Brighton', 'North Saint Paul', 'Bayport', 'Loretto', 'Corcoran', 'Lilydale', 'Rockford', 'Woodland', 'Eagan', 'Tonka Bay', 'Medicine Lake', 'Pine Springs', 'Hugo', 'Coon Rapids', 'Saint Louis Park', 'Mendota Heights', 'Rogers', 'Greenwood', 'Saint Paul Park', 'Minnetonka', 'Edina', 'South Saint Paul', 'Champlin', 'Independence', 'Lake Saint Croix Beach']\n",
      "Simulation12:['Minneapolis', 'Columbia Heights', 'New Brighton', 'Falcon Heights', 'Blaine', 'Brooklyn Center', 'Lexington', 'North Oaks', 'Robbinsdale', 'Hilltop', 'Circle Pines', 'New Hope', 'Fridley', 'West Saint Paul', 'Vadnais Heights', 'Medicine Lake', 'Pine Springs', 'Arden Hills', 'Oakdale', 'Plymouth', 'Lauderdale', 'Centerville', 'Spring Lake Park', 'Mendota', 'Hopkins', 'Little Canada', 'Roseville', 'Dellwood', 'Saint Paul', 'Woodland', 'North Saint Paul', 'Lilydale', 'Lino Lakes']\n",
      "Simulation13:['Minneapolis', 'Brooklyn Center', 'Plymouth', 'Crystal', 'Saint Louis Park', 'Maple Grove']\n",
      "Simulation14:['Minneapolis', 'Golden Valley', 'Wayzata', 'Saint Paul', 'Plymouth', 'Fridley', 'Saint Louis Park', 'Richfield', 'Vadnais Heights', 'Robbinsdale', 'Crystal', 'Mendota Heights', 'Brooklyn Center', 'Hilltop', 'Osseo', 'Hopkins', 'Deephaven', 'Greenwood', 'Shoreview', 'Woodland', 'Columbia Heights', 'New Brighton', 'New Hope', 'Mounds View', 'Champlin', 'North Saint Paul', 'Mahtomedi', 'Medicine Lake', 'Circle Pines', 'Lake Elmo', 'Lilydale', 'Coon Rapids', 'Gem Lake', 'Maple Grove', 'White Bear Lake', 'Saint Marys Point', 'Sunfish Lake', 'Corcoran', 'Edina', 'Medina', 'Orono', 'Arden Hills', 'Centerville', 'North Oaks', 'Landfall', 'Grant', 'Lexington', 'Spring Lake Park', 'Falcon Heights', 'West Saint Paul', 'Tonka Bay', 'Roseville', 'Minnetonka Beach']\n",
      "Simulation15:['Minneapolis', 'Columbia Heights', 'Edina', 'Woodland', 'Mendota Heights', 'Hopkins', 'Crystal', 'Wayzata', 'Greenwood', 'Excelsior', 'Mounds View', 'Minnetonka', 'Mendota', 'Deephaven', 'Chanhassen', 'Shorewood', 'North Oaks', 'Saint Louis Park', 'Eden Prairie', 'Richfield', 'New Brighton', 'Orono', 'Hilltop', 'Circle Pines', 'Spring Park', 'Lilydale', 'Brooklyn Park', 'Robbinsdale', 'Brooklyn Center', 'Lexington', 'Eagan', 'Minnetonka Beach', 'Tonka Bay', 'Falcon Heights', 'Centerville', 'Minnetrista', 'Plymouth', 'Burnsville']\n",
      "Simulation16:['Minneapolis', 'Golden Valley', 'Richfield', 'Saint Paul', 'New Brighton', 'Hilltop', 'Shoreview', 'Columbia Heights', 'Crystal', 'Vadnais Heights', 'Lauderdale', 'Lilydale', 'Medicine Lake', 'Circle Pines', 'North Oaks', 'Lino Lakes', 'Lexington', 'North Saint Paul', 'Roseville', 'Robbinsdale', 'Mounds View', 'Newport', 'Landfall', 'Blaine', 'Brooklyn Park', 'West Saint Paul', 'White Bear Lake', 'Mahtomedi', 'Fridley', 'Saint Paul Park', 'South Saint Paul', 'Inver Grove Heights', 'Arden Hills', 'Brooklyn Center', 'Plymouth', 'Saint Louis Park', 'Maple Grove', 'Falcon Heights', 'Lake Elmo', 'Mendota', 'Gem Lake', 'Woodland', 'Cottage Grove', 'Hugo', 'Little Canada', 'Saint Marys Point', 'Sunfish Lake', 'New Hope', 'Woodbury', 'Eden Prairie', 'Oak Park Heights', 'Birchwood Village']\n",
      "Simulation17:['Minneapolis', 'Saint Louis Park', 'Golden Valley', 'Plymouth', 'Crystal', 'Hopkins', 'Medicine Lake', 'Brooklyn Center', 'Medina', 'Maple Plain', 'New Hope', 'Wayzata', 'Richfield', 'Spring Park', 'Edina', 'Minnetrista', 'Saint Bonifacius', 'Hilltop', 'Saint Anthony', 'Maple Grove', 'Shorewood', 'Victoria', 'Chaska', 'Minnetonka', 'Bloomington', 'Deephaven', 'Mound', 'Chanhassen', 'Long Lake', 'Orono', 'Tonka Bay', 'Minnetonka Beach', 'Greenwood', 'Fridley', 'Lexington', 'Vadnais Heights', 'Woodland', 'Loretto', 'Shoreview', 'Burnsville', 'Independence', 'Eden Prairie', 'Gem Lake', 'Saint Paul', 'Waconia', 'Mayer', 'Spring Lake Park', 'Oakdale', 'Shakopee', 'Falcon Heights', 'Mendota', 'Dellwood', 'Little Canada', 'Excelsior']\n",
      "Simulation18:['Minneapolis', 'Golden Valley', 'Lilydale', 'Medicine Lake', 'Mendota Heights', 'West Saint Paul', 'Minnetonka', 'Richfield', 'Chanhassen', 'Chaska', 'Orono', 'Robbinsdale', 'Crystal', 'Saint Paul', 'Falcon Heights', 'Maple Grove', 'Mound', 'Shorewood', 'Osseo', 'New Brighton', 'Hopkins', 'Maple Plain', 'Columbia Heights', 'Edina', 'Sunfish Lake', 'Greenwood', 'Medina', 'Newport', 'Greenfield', 'Long Lake', 'Wayzata', 'Excelsior', 'Lauderdale', 'Saint Bonifacius', 'Brooklyn Park', 'Brooklyn Center', 'Maplewood', 'Woodland', 'Oakdale', 'Coon Rapids', 'Saint Louis Park', 'Victoria', 'Rockford', 'Dellwood', 'Spring Park', 'Woodbury', 'Loretto', 'Corcoran', 'Tonka Bay', 'South Saint Paul', 'Saint Paul Park', 'New Hope', 'Fridley', 'Spring Lake Park', 'Deephaven', 'Shoreview', 'Mounds View', 'Champlin', 'Plymouth', 'Mendota', 'Minnetonka Beach', 'Hilltop', 'Lino Lakes', 'Landfall', 'Eden Prairie']\n",
      "Simulation19:['Minneapolis', 'Mendota', 'Robbinsdale', 'Roseville', 'West Saint Paul', 'South Saint Paul', 'Plymouth', 'Mounds View', 'Hilltop', 'White Bear Lake', 'Inver Grove Heights', 'Lilydale', 'Eagan', 'Dellwood', 'Maplewood', 'Vadnais Heights', 'Saint Paul', 'Oakdale', 'Richfield', 'Brooklyn Park', 'Fridley', 'Sunfish Lake', 'Arden Hills', 'Centerville', 'Newport', 'New Brighton', 'Coon Rapids', 'Birchwood Village', 'Golden Valley', 'Spring Lake Park']\n",
      "Simulation20:['Minneapolis', 'Hopkins', 'Crystal', 'Mendota', 'Fridley', 'Mounds View', 'Saint Louis Park', 'South Saint Paul', 'Columbia Heights', 'Maplewood', 'Osseo', 'New Brighton', 'Brooklyn Park', 'Spring Lake Park', 'Roseville', 'Circle Pines', 'Richfield', 'Willernie', 'Lilydale', 'Mendota Heights', 'Robbinsdale', 'West Saint Paul']\n",
      "Simulation21:['Minneapolis', 'Golden Valley', 'Columbia Heights', 'Little Canada', 'Plymouth', 'Wayzata', 'Saint Anthony', 'Shorewood', 'Medina', 'Brooklyn Park', 'Mounds View', 'Maple Grove', 'Osseo', 'Falcon Heights', 'Long Lake', 'Lilydale', 'Lauderdale', 'New Hope', 'Greenwood', 'Hilltop', 'Orono', 'Hopkins', 'Crystal', 'West Saint Paul', 'Dellwood', 'Woodland', 'Lexington', 'Chanhassen', 'Vadnais Heights', 'North Oaks', 'Saint Louis Park', 'Saint Paul', 'New Brighton', 'Excelsior', 'Shoreview', 'Loretto', 'Independence', 'Medicine Lake', 'Spring Lake Park', 'Lino Lakes', 'Centerville', 'Roseville', 'North Saint Paul', 'Minnetonka Beach', 'Eden Prairie', 'Fridley', 'Arden Hills', 'Dayton', 'Mahtomedi', 'Grant', 'Brooklyn Center', 'White Bear Lake', 'Circle Pines', 'Carver', 'Shakopee', 'Birchwood Village', 'Richfield', 'Gem Lake', 'Champlin', 'Anoka', 'Robbinsdale', 'Corcoran', 'Oak Park Heights', 'Spring Park', 'Lakeland', 'Saint Marys Point', 'Bayport', 'Maplewood', 'Mendota Heights', 'Landfall', 'Chaska', 'Rockford', 'Oakdale', 'Pine Springs', 'Edina', 'Forest Lake', 'Rogers', 'Blaine']\n",
      "Simulation22:['Minneapolis', 'Lilydale']\n",
      "Simulation23:['Minneapolis', 'Mendota', 'Lilydale', 'Sunfish Lake', 'South Saint Paul', 'Landfall', 'Richfield', 'Falcon Heights', 'Burnsville', 'Saint Paul Park', 'Inver Grove Heights', 'Mendota Heights', 'Hilltop', 'Robbinsdale', 'Gem Lake', 'Saint Paul', 'Fridley', 'Brooklyn Center', 'Mounds View', 'Spring Lake Park', 'Columbia Heights', 'Prior Lake', 'New Hope', 'Arden Hills', 'Golden Valley', 'Bloomington', 'West Saint Paul', 'Newport', 'Cottage Grove']\n",
      "Simulation24:['Minneapolis', 'Robbinsdale', 'Roseville', 'Mendota Heights', 'Lauderdale', 'North Oaks', 'Vadnais Heights', 'Crystal', 'Little Canada', 'Shoreview', 'Columbia Heights', 'New Brighton', 'Spring Lake Park', 'Mounds View', 'Arden Hills', 'Gem Lake', 'Blaine', 'Brooklyn Center', 'Coon Rapids', 'Medicine Lake', 'Lilydale', 'Saint Paul', 'New Hope', 'Golden Valley', 'Plymouth', 'Maple Grove', 'Oakdale', 'Wayzata', 'Lexington', 'Saint Paul Park', 'Osseo', 'Andover', 'Champlin', 'Saint Louis Park', 'Mahtomedi', 'Woodbury', 'Hopkins', 'Bloomington', 'Lake Elmo', 'North Saint Paul', 'Hilltop', 'Excelsior', 'Stillwater', 'White Bear Lake', 'Saint Marys Point', 'Grant', 'Oak Park Heights', 'Centerville', 'Minnetonka', 'Falcon Heights', 'Hugo', 'Dellwood', 'South Saint Paul', 'Fridley', 'Lakeland', 'Landfall', 'Coates', 'Pine Springs']\n",
      "Simulation25:['Minneapolis', 'Falcon Heights', 'Lauderdale', 'Crystal', 'Hilltop', 'Fridley', 'Spring Lake Park', 'North Oaks', 'Shoreview', 'Plymouth', 'Mendota', 'Mendota Heights', 'Osseo', 'New Brighton', 'Roseville', 'Saint Louis Park', 'Columbia Heights', 'Maplewood', 'Robbinsdale', 'Golden Valley', 'Saint Anthony', 'Minnetonka Beach', 'Vadnais Heights', 'Landfall', 'Sunfish Lake', 'Newport', 'Woodland', 'Wayzata', 'Coon Rapids', 'Deephaven', 'Circle Pines', 'Arden Hills', 'Blaine', 'Saint Paul', 'South Saint Paul', 'Edina', 'Greenwood', 'Chaska', 'Anoka', 'Hopkins', 'Corcoran', 'New Hope', 'Woodbury', 'Mahtomedi', 'Oakdale', 'Medicine Lake', 'Ham Lake', 'Lake Elmo', 'Dellwood', 'Long Lake', 'Minnetonka', 'White Bear Lake', 'Gem Lake', 'Medina', 'North Saint Paul', 'Shorewood', 'Richfield', 'Lino Lakes', 'Spring Park', 'Eagan', 'Willernie', 'Tonka Bay', 'Mound', 'Centerville', 'Lilydale', 'Excelsior', 'Birchwood Village', 'Stillwater', 'Brooklyn Center', 'Oak Park Heights', 'Saint Bonifacius', 'Maple Plain', 'Loretto', 'Lake Saint Croix Beach']\n"
     ]
    },
    {
     "name": "stdout",
     "output_type": "stream",
     "text": [
      "Simulation26:['Minneapolis', 'Lilydale', 'Mendota Heights', 'Lauderdale', 'Crystal', 'Robbinsdale', 'Spring Lake Park', 'Columbia Heights', 'Eagan', 'Circle Pines', 'Osseo', 'Coon Rapids', 'Brooklyn Park', 'Richfield', 'Saint Paul', 'Fridley', 'West Saint Paul', 'North Oaks', 'New Hope', 'Lino Lakes', 'Mounds View', 'Falcon Heights', 'Hilltop', 'Plymouth', 'Mendota', 'Dayton', 'Anoka', 'Shoreview', 'Saint Anthony', 'Andover', 'Newport', 'Dellwood', 'Edina', 'Birchwood Village', 'Medicine Lake', 'Oak Grove', 'Willernie', 'Oak Park Heights', 'Blaine', 'Golden Valley', 'Rosemount', 'Vadnais Heights', 'Roseville', 'Bayport', 'Lake Elmo', 'Lakeland Shores', 'Burnsville', 'Arden Hills']\n",
      "Simulation27:['Minneapolis', 'Lilydale', 'Hopkins', 'Golden Valley', 'Robbinsdale', 'Inver Grove Heights', 'Newport', 'Roseville', 'Lauderdale', 'New Hope', 'Medicine Lake', 'Cottage Grove', 'Brooklyn Park', 'West Saint Paul', 'Eden Prairie', 'Hilltop', 'Plymouth', 'Osseo', 'Afton', 'Circle Pines', 'Little Canada', 'North Oaks', 'New Brighton', 'Fridley', 'Lexington', 'Arden Hills', 'Greenwood', 'Excelsior', 'Crystal', 'Mendota Heights', 'Gem Lake', 'Saint Paul', 'Mahtomedi', 'Pine Springs', 'Maple Grove', 'Falcon Heights', 'Lake Elmo', 'Lino Lakes', 'Oakdale', 'Vadnais Heights', 'Maplewood', 'White Bear Lake', 'Shakopee', 'Tonka Bay', 'Hugo', 'Willernie', 'Coates', 'Corcoran', 'South Saint Paul', 'Deephaven', 'Grant', 'Savage', 'Shoreview', 'Landfall']\n",
      "Simulation28:['Minneapolis', 'New Hope', 'Golden Valley', 'Medicine Lake', 'Robbinsdale', 'Medina', 'Brooklyn Center', 'Maple Grove', 'Plymouth', 'Shorewood', 'Wayzata', 'Saint Bonifacius', 'Brooklyn Park']\n",
      "Simulation29:['Minneapolis', 'Medicine Lake', 'Hilltop', 'Arden Hills', 'Columbia Heights', 'Falcon Heights', 'Brooklyn Park', 'New Hope', 'Spring Lake Park', 'Osseo', 'Golden Valley', 'Maple Grove', 'Lauderdale', 'Saint Louis Park', 'Brooklyn Center', 'Robbinsdale', 'Dayton', 'Mounds View', 'New Brighton', 'Ramsey', 'Edina', 'Little Canada', 'Roseville', 'Crystal', 'North Saint Paul', 'Mahtomedi', 'Maplewood', 'South Saint Paul', 'Minnetonka', 'White Bear Lake', 'Shoreview', 'Oakdale']\n"
     ]
    }
   ],
   "source": [
    "# Read values from field\n",
    "distance_values = []\n",
    "with arcpy.da.SearchCursor(\"City_FromToTable_Final\", [\"NEAR_DIST\"]) as cursor:\n",
    "    for row in cursor:\n",
    "        if row[0] is not None:\n",
    "            distance_values.append(row[0])\n",
    "\n",
    "# Calculate the 1st quantile\n",
    "distance_threhold = np.quantile(distance_values, 0.005)\n",
    "\n",
    "#get the number of timestep\n",
    "Initial_time = datetime.datetime.strptime('2020-06', '%Y-%m')   #simulation start month 2020-06\n",
    "delta = relativedelta.relativedelta(Sim_time, Initial_time)\n",
    "num_month = delta.months + (delta.years * 12)\n",
    "\n",
    "\n",
    "for i in range(0,30):\n",
    "    PresenceCity = sim_pred(\"City_FromToTable_Final\",\"City_Pred_0\",method = 'MC',\n",
    "                              PresenceCity = ['Minneapolis'],num_month = num_month,G = None,i = i)\n",
    "    \n",
    "    PresenceCity = sim_pred(\"City_FromToTable_Final\",\"City_Pred_1\",method = 'MC',PresenceCity = PresenceCity, num_month = 1, G = None,i = i)\n",
    "    PresenceCity = sim_pred(\"City_FromToTable_Final\",\"City_Pred_2\",method = 'MC',PresenceCity = PresenceCity, num_month = 1, G = None,i = i)\n",
    "    PresenceCity = sim_pred(\"City_FromToTable_Final\",\"City_Pred_3\",method = 'MC',PresenceCity = PresenceCity, num_month = 1, G = None,i = i)"
   ]
  },
  {
   "cell_type": "code",
   "execution_count": 95,
   "metadata": {},
   "outputs": [
    {
     "data": {
      "text/html": [
       "<div class='gpresult'><h2>Messages</h2><div id='messages' data-messages='[\"Start Time: Wednesday, May 3, 2023 12:51:23 AM\",\"Succeeded at Wednesday, May 3, 2023 12:51:25 AM (Elapsed Time: 2.53 seconds)\"]' data-show='true'><div id = 'default' /></div></div>"
      ],
      "text/plain": [
       "<Result 'City_Pred_3'>"
      ]
     },
     "execution_count": 95,
     "metadata": {},
     "output_type": "execute_result"
    }
   ],
   "source": [
    "#get the simulation final prediction\n",
    "arcpy.management.AddField(\"City_Pred_0\", f\"Pred_MC\", \"SHORT\")\n",
    "arcpy.management.AddField(\"City_Pred_1\", f\"Pred_MC\", \"SHORT\")\n",
    "arcpy.management.AddField(\"City_Pred_2\", f\"Pred_MC\", \"SHORT\")\n",
    "arcpy.management.AddField(\"City_Pred_3\", f\"Pred_MC\", \"SHORT\")\n",
    "\n",
    "final_result(\"City_Pred_0\",method = 'MC')        \n",
    "#delete unnecessary columns\n",
    "arcpy.management.DeleteField(\"City_Pred_0\", \"CITY_NAME;POPULATION;Pred_MC\", \"KEEP_FIELDS\")\n",
    "\n",
    "final_result(\"City_Pred_1\",method = 'MC')\n",
    "#delete unnecessary columns\n",
    "arcpy.management.DeleteField(\"City_Pred_1\", \"CITY_NAME;POPULATION;Pred_MC\", \"KEEP_FIELDS\")\n",
    "\n",
    "final_result(\"City_Pred_2\",method = 'MC')\n",
    "#delete unnecessary columns\n",
    "arcpy.management.DeleteField(\"City_Pred_2\", \"CITY_NAME;POPULATION;Pred_MC\", \"KEEP_FIELDS\")\n",
    "\n",
    "final_result(\"City_Pred_3\",method = 'MC')\n",
    "#delete unnecessary columns\n",
    "arcpy.management.DeleteField(\"City_Pred_3\", \"CITY_NAME;POPULATION;Pred_MC\", \"KEEP_FIELDS\")"
   ]
  },
  {
   "cell_type": "markdown",
   "metadata": {},
   "source": [
    "### Gravity Model - Pop & Dist"
   ]
  },
  {
   "cell_type": "code",
   "execution_count": 40,
   "metadata": {},
   "outputs": [],
   "source": [
    "# adds probability column to near table\n",
    "arcpy.management.AddField(\"City_FromToTable_Final\", \"Probability_G\", \"DOUBLE\")\n",
    "\n",
    "#Calculates probability of each pair transition\n",
    "alpha = 1.5\n",
    "\n",
    "with arcpy.da.SearchCursor(\"City_FromToTable_Final\",\"*\") as cursor:\n",
    "    total_sum = sum(((row[5] * row[7])/(row[3]**alpha)) for row in cursor)\n",
    "with arcpy.da.UpdateCursor(\"City_FromToTable_Final\",\"*\") as cursor:\n",
    "    for row in cursor:\n",
    "        row[10] = (row[5] * row[7])/(row[3]**alpha)/total_sum\n",
    "        cursor.updateRow(row)\n",
    "del cursor"
   ]
  },
  {
   "cell_type": "code",
   "execution_count": 96,
   "metadata": {},
   "outputs": [
    {
     "name": "stdout",
     "output_type": "stream",
     "text": [
      "Simulation0:['Minneapolis', 'Richfield', 'Maplewood', 'Inver Grove Heights', 'Edina', 'Saint Louis Park', 'Mahtomedi', 'Saint Paul', 'Mendota Heights', 'Shoreview', 'Chanhassen', 'Monticello', 'Plymouth', 'Osseo', 'Bloomington', 'Crystal', 'Lilydale', 'Columbia Heights', 'Brooklyn Center', 'Rosemount', 'Minnetonka', 'Winona', 'Woodbury', 'Brooklyn Park', 'Roseville', 'Lakeville', 'Farmington', 'Little Canada', 'Golden Valley', 'Corcoran', 'Eden Prairie', 'New Brighton', 'Andover', 'Cambridge', 'Hutchinson', 'Hopkins', 'Saint Peter', 'Deephaven', 'Fridley', 'Coon Rapids', 'Arden Hills', 'West Saint Paul', 'Browerville', 'New Hope', 'Maple Grove', 'Cottage Grove']\n",
      "Simulation1:['Minneapolis', 'Roseville', 'Saint Paul', 'Shoreview', 'Brooklyn Park', 'Lakeville', 'Mahtomedi', 'Coon Rapids', 'Inver Grove Heights', 'West Saint Paul', 'Blaine', 'Mendota Heights', 'New Hope', 'Chaska', 'Mounds View', 'Lino Lakes', 'Robbinsdale', 'South Saint Paul', 'White Bear Lake', 'New Brighton', 'Eagan', 'Oakdale', 'Hopkins', 'Lauderdale', 'Columbia Heights', 'Hugo', 'Champlin', 'Maple Grove', 'Apple Valley', 'Bloomington', 'Hastings', 'Eden Prairie', 'Shakopee', 'Fridley', 'Burnsville', 'Elk River', 'Brooklyn Center', 'Maplewood', 'Tonka Bay', 'Golden Valley', 'Richfield', 'Andover', 'Arden Hills', 'Anoka']\n",
      "Simulation2:['Minneapolis', 'Bloomington', 'Brooklyn Park', 'Saint Paul', 'Fridley', 'West Saint Paul', 'Oakdale', 'Saint Louis Park', 'Cloquet', 'Plymouth', 'New Brighton', 'Roseville', 'Rosemount', 'Woodbury', 'Inver Grove Heights', 'Forest Lake', 'Lakeville', 'Edina', 'Arden Hills', 'Columbia Heights', 'Maple Grove', 'Richfield', 'Minnetonka', 'Glencoe', 'Mankato', 'Circle Pines', 'Dayton', 'Golden Valley', 'South Saint Paul', 'Eagan', 'Cottage Grove', 'Foreston', 'Maplewood', 'Savage', 'Eden Prairie', 'Lino Lakes', 'Little Canada', 'Elgin', 'Apple Valley', 'North Saint Paul', 'Le Sueur', 'Hopkins', 'Lake Elmo', 'Coon Rapids', 'New Hope', 'Mendota Heights', 'Blaine']\n",
      "Simulation3:['Minneapolis', 'Lakeville', 'Saint Paul', 'Arden Hills', 'Richfield', 'Crystal', 'Edina', 'Shoreview', 'Maplewood', 'Chaska', 'Shakopee', 'Hopkins', 'Eden Prairie', 'Saint Francis', 'Coon Rapids', 'Saint Louis Park', 'Eagan', 'Anoka', 'South Saint Paul', 'North Saint Paul', 'Plymouth', 'Bloomington', 'Rosemount', 'Golden Valley', 'Roseville', 'Little Canada', 'Cambridge', 'Minnetonka', 'Saint Michael', 'Rockford', 'Woodbury', 'Burnsville', 'Blaine', 'West Saint Paul', 'Apple Valley', 'Fridley', 'Brooklyn Center', 'Maple Grove']\n",
      "Simulation4:['Minneapolis', 'White Bear Lake', 'Columbia Heights', 'Fridley', 'Saint Paul', 'Minnetonka', 'Coon Rapids', 'Mendota Heights', 'Woodbury', 'Golden Valley', 'Inver Grove Heights', 'Burnsville', 'Montrose', 'Edina', 'Plymouth', 'Maple Grove', 'Apple Valley', 'Stillwater', 'Crystal', 'Anoka', 'Robbinsdale', 'Richfield', 'Arden Hills', 'Bloomington', 'Lindstrom', 'Brooklyn Park', 'Eagan', 'Spring Lake Park', 'Otsego', 'Maplewood', 'Saint Louis Park', 'Credit River', 'Shakopee', 'New Hope', 'Saint Michael', 'Roseville', 'Faribault', 'Rosemount', 'Saint Anthony', 'Cottage Grove', 'Andover', 'East Bethel', 'Eden Prairie', 'Champlin', 'Rockford', 'Mora']\n",
      "Simulation5:['Minneapolis', 'Eden Prairie', 'Saint Paul', 'Hastings', 'Falcon Heights', 'Roseville', 'Edina', 'Brooklyn Center', 'Champlin', 'Little Canada', 'Saint Louis Park', 'Minnetonka', 'Bloomington', 'Maplewood', 'Shakopee', 'Plymouth', 'Farmington', 'Woodbury', 'Crystal', 'Maple Grove', 'Saint Cloud', 'Vadnais Heights', 'Blaine', 'Columbia Heights', 'Golden Valley', 'West Saint Paul', 'Hopkins', 'Eagan', 'Inver Grove Heights', 'Brooklyn Park', 'Coon Rapids', 'Saint Anthony', 'Anoka', 'New Hope', 'New Prague']\n",
      "Simulation6:['Minneapolis', 'Edina', 'Medicine Lake', 'Bloomington', 'Saint Paul', 'Otsego', 'Lino Lakes', 'Woodbury', 'Fridley', 'Brooklyn Center', 'Shoreview', 'Plymouth', 'Brooklyn Park', 'Maplewood', 'Lakeville', 'Eden Prairie', 'Shakopee', 'Spring Lake Park', 'Apple Valley', 'Saint Louis Park', 'Mahtomedi', 'Rosemount', 'New Hope', 'Golden Valley', 'Andover', 'Little Canada', 'Maple Grove', 'Inver Grove Heights', 'Crystal', 'Coon Rapids', 'Corcoran', 'Mendota Heights', 'Eagan', 'Burnsville', 'New Brighton', 'Hopkins', 'Roseville', 'West Saint Paul', 'Champlin', 'Ramsey', 'Dayton']\n",
      "Simulation7:['Minneapolis', 'Saint Louis Park', 'Saint Paul', 'Maple Grove', 'Oakdale', 'Minnetrista', 'Edina', 'Plymouth', 'Bloomington', 'Savage', 'Eden Prairie', 'Eagan', 'Dayton', 'Fridley', 'Cottage Grove', 'Burnsville', 'Dundas', 'Champlin', 'Ham Lake', 'Coon Rapids', 'Hopkins', 'Jordan', 'Andover', 'Richfield', 'Woodbury', 'Maplewood', 'Scandia', 'Crystal', 'Minnetonka', 'Shoreview', 'Blaine', 'Vadnais Heights', 'Hampton', 'White Bear Lake', 'Lakeville', 'New Brighton', 'La Crescent']\n",
      "Simulation8:['Minneapolis', 'Eden Prairie', 'Golden Valley', 'Saint Paul', 'Little Canada', 'Lino Lakes', 'Eagan', 'Andover', 'Blaine', 'Edina', 'Rosemount', 'Saint Louis Park', 'New Hope', 'Mounds View', 'Burnsville', 'Saint Paul Park', 'Brooklyn Park', 'Brooklyn Center', 'Coon Rapids', 'Hopkins', 'Crystal', 'Landfall', 'Maple Grove', 'Bloomington', 'Maplewood', 'Richfield', 'Plymouth', 'Saint Anthony', 'Centerville', 'Shorewood', 'Cottage Grove', 'Champlin', 'Lakeville', 'Le Center', 'Oakdale', 'Willmar', 'Savage', 'Minnetonka', 'Hanover', 'Stewartville', 'Mankato', 'Stillwater', 'New Brighton', 'Zimmerman', 'Monticello', 'Prior Lake']\n",
      "Simulation9:['Minneapolis', 'Saint Louis Park', 'Rosemount', 'Saint Paul', 'New Hope', 'White Bear Lake', 'North Branch', 'Golden Valley', 'Prior Lake', 'Victoria', 'Maplewood', 'Eden Prairie', 'Maple Grove', 'Woodbury', 'Roseville', 'Crystal', 'South Saint Paul', 'Shoreview', 'Plymouth', 'Fridley', 'Saint Anthony', 'Edina', 'Chanhassen', 'Forest Lake', 'Blaine', 'Savage', 'Oakdale', 'Rogers', 'Ham Lake', 'Stillwater', 'Shakopee', 'Coon Rapids', 'Minnetonka', 'Orono', 'Brooklyn Park', 'Mankato', 'Saint Peter']\n",
      "Simulation10:['Minneapolis', 'Saint Louis Park', 'Edina', 'Golden Valley', 'Saint Paul', 'Saint Cloud', 'New Hope', 'Farmington', 'Mendota Heights', 'Falcon Heights', 'Brooklyn Center', 'Saint Paul Park', 'Roseville', 'Plymouth', 'Orono', 'Corcoran', 'Woodbury', 'Eagan', 'Brooklyn Park', 'Champlin', 'Bloomington', 'West Saint Paul', 'Hastings', 'Inver Grove Heights', 'Burnsville', 'Crystal', 'Circle Pines', 'Little Canada', 'Ogema', 'Robbinsdale', 'Eden Prairie', 'Shorewood', 'Maplewood', 'Columbia Heights', 'New Brighton', 'Shakopee', 'Richfield', 'Chaska', 'South Saint Paul']\n",
      "Simulation11:['Minneapolis', 'Mounds View', 'Austin', 'Columbia Heights', 'Brooklyn Park', 'Elk River', 'Saint Paul', 'Eagan', 'Apple Valley', 'Bloomington', 'Crystal', 'Plymouth', 'White Bear Lake', 'Coon Rapids', 'Falcon Heights', 'Golden Valley', 'Roseville', 'Prior Lake', 'Inver Grove Heights', 'Nowthen', 'New Brighton', 'Lino Lakes', 'Maplewood', 'Saint Louis Park', 'Woodbury', 'Andover', 'Maple Grove', 'South Saint Paul', 'Forest Lake', 'Mapleton', 'New Hope', 'Eden Prairie', 'Robbinsdale', 'Lakeville', 'Lake Elmo', 'Richfield', 'Minnetonka', 'Shoreview']\n",
      "Simulation12:['Minneapolis', 'Vadnais Heights', 'Elk River', 'Golden Valley', 'Saint Louis Park', 'Saint Paul', 'New Brighton', 'Cottage Grove', 'Maplewood', 'Woodbury', 'Arden Hills', 'Cannon Falls', 'Plymouth', 'Shakopee', 'Burnsville', 'Bloomington', 'Mahtomedi', 'Edina', 'Shoreview', 'Northfield', 'Savage', 'Chanhassen', 'Brooklyn Park', 'North Saint Paul', 'Fridley', 'New Hope', 'Blaine']\n",
      "Simulation13:['Minneapolis', 'Columbia Heights', 'Prior Lake', 'Crystal', 'Chanhassen', 'Minnetonka', 'Ramsey', 'Mendota Heights', 'Blaine', 'Brooklyn Center', 'Saint Paul', 'Eagan', 'Saint Louis Park', 'Lindstrom', 'Ham Lake', 'Rochester', 'Wayzata', 'Brooklyn Park', 'New Hope', 'Mounds View', 'Apple Valley', 'New Brighton', 'Eden Prairie', 'West Saint Paul', 'Bloomington', 'Roseville', 'Fridley', 'Robbinsdale', 'Hutchinson', 'North Branch', 'Coon Rapids', 'Independence']\n",
      "Simulation14:['Minneapolis', 'Richfield', 'Eden Prairie', 'Blaine', 'Robbinsdale', 'Saint Paul', 'Brooklyn Center', 'Bloomington', 'Saint Louis Park', 'Brooklyn Park', 'Apple Valley', 'West Saint Paul', 'Burnsville', 'Golden Valley', 'Saint Cloud', 'Minnetonka', 'Otsego', 'Shoreview', 'Hutchinson', 'Chaska', 'Mahtomedi', 'Rosemount', 'Coon Rapids', 'Roseville', 'Eagan', 'Ramsey', 'Victoria', 'Farmington', 'Edina', 'Andover', 'New Brighton', 'Waconia', 'Lino Lakes', 'Lakeville', 'Hopkins', 'Crystal', 'Maple Grove', 'Rochester', 'Lauderdale', 'Shakopee', 'Chisago City', 'Plymouth', 'Northfield']\n",
      "Simulation15:['Minneapolis', 'Golden Valley', 'Edina', 'Fridley', 'Bloomington', 'Burnsville', 'Champlin', 'Anoka', 'Shakopee', 'Minnetonka', 'Eagan', 'Andover', 'Mendota Heights', 'Saint Louis Park', 'Eden Prairie', 'Newport', 'North Branch', 'Saint Paul', 'Plymouth', 'West Saint Paul', 'Richfield', 'Jordan', 'Chanhassen', 'Brooklyn Park', 'Roseville', 'Maple Grove', 'Coon Rapids', 'Oakdale', 'Robbinsdale', 'Prior Lake', 'Vadnais Heights', 'Rosemount', 'New Brighton', 'Maplewood', 'Blaine', 'Hilltop', 'Woodbury', 'Apple Valley', 'Albany', 'Lakeville', 'Saint Anthony', 'Lilydale', 'Saint Francis']\n",
      "Simulation16:['Minneapolis', 'Saint Paul', 'Lakeville', 'Crystal', 'Norwood Young America', 'New Hope', 'Richfield', 'Landfall', 'Hopkins', 'West Saint Paul', 'Annandale', 'Rosemount', 'Carver', 'Prior Lake', 'Fridley', 'Mendota Heights', 'Lake Elmo', 'Eden Prairie', 'Woodbury', 'Roseville', 'Bloomington', 'Maplewood', 'White Bear Lake', 'Eagan', 'Ramsey', 'Brooklyn Center', 'Stillwater', 'Rogers', 'Tonka Bay', 'Owatonna', 'Arden Hills', 'Shakopee', 'Inver Grove Heights', 'Big Lake', 'Wyoming', 'Burnsville', 'New Brighton', 'Brooklyn Park', 'Dayton']\n",
      "Simulation17:['Minneapolis', 'Saint Paul', 'Saint Peter', 'Winthrop', 'Spring Lake Park', 'Richfield', 'Little Canada', 'Bloomington', 'Farmington', 'Coon Rapids', 'Golden Valley', 'Brooklyn Park', 'Eagan', 'Mankato', 'Minnetonka', 'Arlington', 'Edina', 'Wayzata', 'Apple Valley', 'Maplewood', 'Burnsville', 'Chisago City', 'Saint Louis Park', 'Cottage Grove', 'Deephaven', 'South Saint Paul', 'Blaine', 'Shakopee', 'Monticello', 'Mendota Heights']\n",
      "Simulation18:['Minneapolis', 'Saint Louis Park', 'Fridley', 'Brooklyn Park', 'Golden Valley', 'Richfield', 'Maplewood', 'Edina', 'Maple Grove', 'New Hope', 'Burnsville', 'Saint Paul', 'Bloomington', 'Minnetonka', 'Blaine', 'Chanhassen', 'New Brighton', 'Hugo', 'Robbinsdale', 'Crystal', 'Dellwood', 'Rosemount', 'Prior Lake', 'Osseo', 'Hopkins', 'Champlin', 'Saint Michael', 'Woodbury', 'Savage', 'Ham Lake', 'Eagan', 'Roseville', 'Plymouth', 'Forest Lake']\n",
      "Simulation19:['Minneapolis', 'New Hope', 'Eagan', 'Oakdale', 'Edina', 'Blaine', 'Victoria', 'Mankato', 'Saint Louis Park', 'Andover', 'Hastings', 'Brooklyn Center', 'Saint Paul', 'Lakeville', 'Elk River', 'Eden Prairie', 'Lauderdale', 'Plymouth', 'Mendota Heights', 'Arden Hills', 'Woodbury', 'Monticello', 'Mayer', 'Maplewood', 'North Saint Paul', 'Crystal', 'Prior Lake', 'Vadnais Heights', 'Coon Rapids', 'Brooklyn Park', 'Elko New Market', 'Minnetonka', 'West Saint Paul', 'Jordan', 'Rockville']\n",
      "Simulation20:['Minneapolis', 'Shoreview', 'Woodbury', 'Crystal', 'Coon Rapids', 'Centerville', 'Edina', 'Saint Paul', 'Minnetonka', 'Plymouth', 'Brooklyn Park', 'Faribault', 'Eden Prairie', 'Maplewood', 'New Prague', 'Robbinsdale', 'Columbia Heights', 'Bloomington', 'Apple Valley', 'Brooklyn Center', 'Golden Valley', 'Waconia', 'Champlin', 'Maple Grove', 'Falcon Heights', 'Richfield', 'Lauderdale', 'Rosemount', 'Chaska', 'Little Canada', 'Savage', 'Blaine', 'Newport']\n",
      "Simulation21:['Minneapolis', 'Edina', 'Hopkins', 'Lindstrom', 'Falcon Heights', 'Richfield', 'Bloomington', 'Oakdale', 'Eagan', 'Saint Louis Park', 'Brooklyn Center', 'Blaine', 'Andover', 'Saint Paul', 'Lakeville', 'Brooklyn Park', 'Savage', 'Elk River', 'Cottage Grove', 'Coon Rapids', 'Golden Valley', 'Roseville', 'Otsego', 'Fridley', 'Crystal', 'Prior Lake', 'Rockford', 'Sartell', 'Champlin', 'Plymouth', 'South Saint Paul', 'Chanhassen', 'Deephaven']\n",
      "Simulation22:['Minneapolis', 'Saint Paul', 'Inver Grove Heights', 'Oak Grove', 'Saint Paul Park', 'Minnetonka', 'Savage', 'Owatonna', 'Maplewood', 'Oakdale', 'Orono', 'Excelsior', 'Roseville', 'Shoreview', 'Coon Rapids', 'Lakeville', 'Hopkins', 'Lauderdale', 'Eagan', 'Mendota Heights', 'Burnsville', 'Blaine', 'Crystal', 'Saint Louis Park', 'White Bear Lake', 'West Saint Paul', 'Edina', 'Richfield', 'Robbinsdale', 'Rosemount', 'South Saint Paul', 'Little Canada']\n",
      "Simulation23:['Minneapolis', 'Brooklyn Park', 'Saint Paul', 'Eden Prairie', 'Golden Valley', 'Saint Louis Park', 'Vadnais Heights', 'Fridley', 'Robbinsdale', 'Blaine', 'Shakopee', 'Hopkins', 'Burnsville', 'Champlin', 'Maplewood', 'Oakdale', 'Arden Hills', 'Plymouth', 'Victoria', 'Mound', 'Rochester', 'Minnetonka', 'Rogers', 'Roseville', 'North Saint Paul', 'Chanhassen', 'Coon Rapids', 'Brooklyn Center', 'Woodbury', 'Edina', 'Crystal', 'Lake Elmo', 'Bloomington', 'Lakeville', 'South Saint Paul', 'Lino Lakes', 'Apple Valley', 'Maple Grove', 'Saint Anthony', 'Shorewood', 'Hastings', 'Savage', 'Farmington', 'North Oaks', 'Deephaven', 'Ramsey', 'New Hope', 'Shoreview', 'White Bear Lake', 'Northfield', 'Ham Lake']\n",
      "Simulation24:['Minneapolis', 'Edina', 'Saint Paul', 'Eden Prairie', 'Inver Grove Heights', 'West Saint Paul', 'Saint Louis Park', 'Robbinsdale', 'Roseville', 'Blaine', 'Saint Anthony', 'Apple Valley', 'Anoka', 'New Brighton', 'Lakeville', 'Maplewood', 'Fridley', 'Bloomington', 'Oakdale', 'Maple Grove', 'White Bear Lake', 'Shoreview', 'Stillwater', 'Burnsville', 'Vadnais Heights', 'Savage', 'Brooklyn Park', 'New Hope', 'Bayport', 'Cottage Grove', 'Hopkins', 'Andover', 'Waconia', 'Plymouth', 'Lonsdale', 'Richfield', 'Minnetonka', 'Mounds View', 'Lino Lakes', 'Brooklyn Center', 'South Saint Paul', 'Woodbury', 'Coon Rapids', 'Rosemount', 'Golden Valley', 'Little Canada', 'Mahtomedi', 'Zumbrota', 'Saint Cloud']\n",
      "Simulation25:['Minneapolis', 'Robbinsdale', 'Minnetonka', 'Burnsville', 'Bloomington', 'Columbia Heights', 'New Hope', 'Saint Paul', 'Shoreview', 'Saint Louis Park', 'Eagan', 'Newport', 'Brooklyn Park', 'Coon Rapids', 'Woodbury', 'Eden Prairie', 'Spring Lake Park', 'Hopkins', 'West Saint Paul', 'Inver Grove Heights', 'South Saint Paul', 'Prior Lake', 'Mendota Heights', 'North Oaks', 'Plymouth', 'New Brighton', 'Blaine', 'Brooklyn Center', 'Shakopee', 'Roseville', 'Richfield', 'Fridley', 'Mound', 'Hastings', 'Maple Grove', 'Dayton', 'Maple Plain', 'Waconia', 'Lakeville', 'Golden Valley', 'North Saint Paul', 'Chaska']\n",
      "Simulation26:['Minneapolis', 'Brooklyn Center', 'New Hope', 'Saint Louis Park', 'Blaine', 'Savage', 'Maplewood', 'Lakeville', 'Brooklyn Park', 'Plymouth', 'North Saint Paul', 'Coon Rapids', 'Shoreview', 'Orono', 'Falcon Heights', 'Richfield', 'Bloomington', 'Lonsdale', 'Nowthen', 'Mendota Heights', 'Edina', 'Saint Paul', 'Andover', 'Wayzata', 'Minnetonka', 'Columbia Heights', 'Apple Valley', 'Champlin', 'Burnsville', 'Crystal', 'Duluth', 'Rosemount', 'Eden Prairie', 'Maple Grove', 'White Bear Lake', 'Saint Michael', 'Roseville']\n",
      "Simulation27:['Minneapolis', 'Chaska', 'Saint Paul', 'Plymouth', 'Maplewood', 'Mendota Heights', 'Little Canada', 'Burnsville', 'Brooklyn Park', 'Elk River', 'Blaine', 'Eden Prairie', 'Bloomington', 'Shakopee', 'Eagan', 'New Brighton', 'Robbinsdale', 'Edina', 'West Saint Paul', 'Saint Louis Park', 'Deephaven', 'Anoka', 'Maple Grove', 'Crystal', 'Coon Rapids', 'Woodbury', 'Dayton', 'Cottage Grove', 'Richfield', 'Roseville', 'Arden Hills', 'South Saint Paul', 'Apple Valley', 'Savage', 'Mound', 'Mounds View', 'Andover', 'Nowthen', 'Lilydale', 'Shoreview', 'Falcon Heights', 'Gem Lake', 'Golden Valley', 'White Bear Lake']\n"
     ]
    },
    {
     "name": "stdout",
     "output_type": "stream",
     "text": [
      "Simulation28:['Minneapolis', 'Columbia Heights', 'Bloomington', 'Cottage Grove', 'Saint Paul', 'Orono', 'Saint Michael', 'Waseca', 'Fridley', 'Roseville', 'Brooklyn Center', 'Burnsville', 'Rogers', 'Spring Lake Park', 'Brooklyn Park', 'Hanley Falls', 'Saint Louis Park', 'New Brighton', 'Mendota Heights', 'Hastings', 'Chaska', 'West Saint Paul', 'Saint Anthony', 'Big Lake', 'Eden Prairie', 'Long Lake', 'Maplewood', 'Minnetonka', 'Apple Valley', 'North Saint Paul', 'Inver Grove Heights', 'Eagan', 'Owatonna', 'Plymouth']\n",
      "Simulation29:['Minneapolis', 'Edina', 'Arden Hills', 'Mendota Heights', 'Eagan', 'Bloomington', 'Coon Rapids', 'New Ulm', 'Champlin', 'Plymouth', 'Shakopee', 'Spring Lake Park', 'Columbia Heights', 'Anoka', 'Circle Pines', 'Maple Grove', 'Lakeville', 'Chanhassen', 'Rochester', 'Apple Valley', 'East Bethel', 'Brooklyn Park', 'Oakdale', 'Brooklyn Center', 'Golden Valley', 'Falcon Heights', 'Inver Grove Heights', 'Roseville', 'Saint Louis Park', 'Rockford']\n"
     ]
    }
   ],
   "source": [
    "#run 30 simulations\n",
    "for i in range(0,30):\n",
    "    PresenceCity = sim_pred(\"City_FromToTable_Final\",\"City_Pred_0\",method = 'G',\n",
    "                              PresenceCity = ['Minneapolis'],num_month = num_month,G = 15,i = i)\n",
    "    \n",
    "    PresenceCity = sim_pred(\"City_FromToTable_Final\",\"City_Pred_1\",method = 'G',PresenceCity = PresenceCity,num_month = 1,G = 15,i = i)\n",
    "    PresenceCity = sim_pred(\"City_FromToTable_Final\",\"City_Pred_2\",method = 'G',PresenceCity = PresenceCity, num_month = 1, G = 15,i = i)\n",
    "    PresenceCity = sim_pred(\"City_FromToTable_Final\",\"City_Pred_3\",method = 'G',PresenceCity = PresenceCity, num_month = 1, G = 15,i = i)"
   ]
  },
  {
   "cell_type": "code",
   "execution_count": 97,
   "metadata": {},
   "outputs": [
    {
     "data": {
      "text/html": [
       "<div class='gpresult'><h2>Messages</h2><div id='messages' data-messages='[\"Start Time: Wednesday, May 3, 2023 1:24:07 AM\",\"Succeeded at Wednesday, May 3, 2023 1:24:10 AM (Elapsed Time: 2.58 seconds)\"]' data-show='true'><div id = 'default' /></div></div>"
      ],
      "text/plain": [
       "<Result 'City_Pred_3'>"
      ]
     },
     "execution_count": 97,
     "metadata": {},
     "output_type": "execute_result"
    }
   ],
   "source": [
    "#get the simulation final prediction\n",
    "arcpy.management.AddField(\"City_Pred_0\", f\"Pred_G\", \"SHORT\")\n",
    "arcpy.management.AddField(\"City_Pred_1\", f\"Pred_G\", \"SHORT\")\n",
    "arcpy.management.AddField(\"City_Pred_2\", f\"Pred_G\", \"SHORT\")\n",
    "arcpy.management.AddField(\"City_Pred_3\", f\"Pred_G\", \"SHORT\")\n",
    "\n",
    "final_result(\"City_Pred_0\",method = 'G')        \n",
    "#delete unnecessary columns\n",
    "arcpy.management.DeleteField(\"City_Pred_0\", \"CITY_NAME;POPULATION;Pred_MC;Pred_G\", \"KEEP_FIELDS\")\n",
    "\n",
    "final_result(\"City_Pred_1\",method = 'G')\n",
    "#delete unnecessary columns\n",
    "arcpy.management.DeleteField(\"City_Pred_1\", \"CITY_NAME;POPULATION;Pred_MC;Pred_G\", \"KEEP_FIELDS\")\n",
    "\n",
    "final_result(\"City_Pred_2\",method = 'G')\n",
    "#delete unnecessary columns\n",
    "arcpy.management.DeleteField(\"City_Pred_2\", \"CITY_NAME;POPULATION;Pred_MC;Pred_G\", \"KEEP_FIELDS\")\n",
    "\n",
    "final_result(\"City_Pred_3\",method = 'G')\n",
    "#delete unnecessary columns\n",
    "arcpy.management.DeleteField(\"City_Pred_3\", \"CITY_NAME;POPULATION;Pred_MC;Pred_G\", \"KEEP_FIELDS\")"
   ]
  },
  {
   "cell_type": "markdown",
   "metadata": {},
   "source": [
    "### Huff Model - LandUse, Pop, Dist"
   ]
  },
  {
   "cell_type": "code",
   "execution_count": 43,
   "metadata": {},
   "outputs": [],
   "source": [
    "# adds probability column to near table\n",
    "arcpy.management.AddField(\"City_FromToTable_Final\", \"Probability_H\", \"DOUBLE\")\n",
    "\n",
    "#Calculates probability of each pair transition\n",
    "alpha = 1.5\n",
    "\n",
    "with arcpy.da.SearchCursor(\"City_FromToTable_Final\",\"*\") as cursor:\n",
    "    total_sum = sum(((row[7] * (row[9]+0.001))/(row[3]**alpha)) for row in cursor)\n",
    "with arcpy.da.UpdateCursor(\"City_FromToTable_Final\",\"*\") as cursor:\n",
    "    for row in cursor:\n",
    "        row[11] = ((row[7] * (row[9]+0.001))/(row[3]**alpha))/total_sum\n",
    "        cursor.updateRow(row)\n",
    "del cursor"
   ]
  },
  {
   "cell_type": "code",
   "execution_count": 115,
   "metadata": {},
   "outputs": [
    {
     "name": "stdout",
     "output_type": "stream",
     "text": [
      "Simulation0:['Minneapolis', 'Bloomington', 'Victoria', 'Minnetonka', 'Buffalo', 'New Prague', 'Eyota', 'Shakopee', 'Woodbury', 'Lakeville', 'Mahtomedi', 'Becker', 'Saint Michael', 'Eden Prairie', 'Burnsville', 'Princeton', 'Saint Paul', 'Saint Joseph', 'Byron', 'Watertown', 'Farmington', 'Richfield', 'Columbus', 'Faribault', 'Saint Charles', 'Mounds View', 'Savage', 'Sartell', 'Chaska', 'Edina', 'Plymouth', 'Blue Earth', 'Apple Valley', 'Forest Lake', 'Blaine', 'Maple Grove', 'Hugo', 'Falcon Heights', 'Shorewood', 'Otsego', 'Waseca', 'Sauk Rapids', 'New Brighton', 'Elk River', 'Coon Rapids', 'Roseville', 'Inver Grove Heights']\n",
      "Simulation1:['Minneapolis', 'West Saint Paul', 'Mendota Heights', 'Roseville', 'Edina', 'Woodbury', 'Saint Paul', 'Waconia', 'Vadnais Heights', 'Faribault', 'Golden Valley', 'Maple Grove', 'Eden Prairie', 'Blaine', 'Rogers', 'Big Lake', 'Arden Hills', 'Ramsey', 'Burnsville', 'Goodview', 'Winona', 'Chaska', 'Inver Grove Heights', 'Ham Lake', 'Shakopee', 'Belle Plaine', 'Bloomington', 'Eagan', 'Lake Elmo', 'Otsego', 'Oakdale', 'Maplewood', 'Clearwater', 'Lilydale', 'Orono', 'Cottage Grove', 'Rosemount', 'Richfield', 'Brooklyn Park', 'Medicine Lake', 'Corcoran', 'Sobieski', 'Elko New Market', 'North Oaks', 'Savage', 'Saint Francis', 'Andover', 'Oak Grove', 'Elk River', 'Robbinsdale', 'Shorewood', 'Anoka', 'Nowthen', 'Red Wing', 'Shoreview', 'Granite Falls', 'Minnetrista', 'Wyoming', 'Crystal', 'Plymouth', 'Lakeville', 'Forest Lake', 'Rochester']\n",
      "Simulation2:['Minneapolis', 'Bloomington', 'Brooklyn Park', 'Woodbury', 'Mankato', 'Bayport', 'Saint Paul', 'Inver Grove Heights', 'Minnetonka', 'Forest Lake', 'Corcoran', 'Chaska', 'Ramsey', 'Crosslake', 'Blaine', 'Cottage Grove', 'Blue Earth', 'Winona', 'Fridley', 'Saint Paul Park', 'Maple Grove', 'Lino Lakes', 'Hugo', 'Lakeville', 'Albertville', 'Saint Louis Park', 'Mahtomedi', 'Fairmont', 'Savage', 'Lake Elmo', 'Shoreview', 'Otsego', 'Oakdale', 'Prior Lake', 'Shakopee', 'Shafer', 'Eagan', 'Independence', 'Andover', 'Watertown', 'Oak Grove', 'Saint Cloud', 'Medina', 'Rosemount', 'Dayton', 'Mendota Heights', 'Arden Hills', 'Coon Rapids']\n",
      "Simulation3:['Minneapolis', 'Maplewood', 'Saint Paul', 'Lake Elmo', 'Coon Rapids', 'Brooklyn Park', 'Blaine', 'New Brighton', 'Fridley', 'Lino Lakes', 'West Saint Paul', 'Edina', 'Red Wing', 'Hugo', 'Woodbury', 'Inver Grove Heights', 'Savage', 'Burnsville', 'Minnetonka', 'Eagan', 'Albert Lea', 'Shakopee', 'Cottage Grove', 'Apple Valley', 'Roseville', 'Plymouth', 'Vadnais Heights', 'Duluth', 'Oakdale', 'Newport', 'Lindstrom', 'Rosemount', 'Bloomington', 'Little Canada', 'Brooklyn Center', 'Monticello', 'Andover', 'Otsego', 'Maple Grove', 'Zimmerman', 'Shorewood', 'Grant', 'Lakeville', 'Mahtomedi', 'Oak Grove', 'Rogers', 'Wyoming', 'Faribault', 'Saint Anthony', 'Farmington', 'North Saint Paul', 'Prior Lake', 'Shoreview', 'Ramsey', 'Elk River', 'Lester Prairie', 'Robbinsdale', 'Adams', 'North Oaks', 'Centerville', 'Eden Prairie', 'Minnetrista', 'Wilton', 'Corcoran']\n",
      "Simulation4:['Minneapolis', 'New Brighton', 'Brooklyn Park', 'Cannon Falls', 'Lakeville', 'Orono', 'Shoreview', 'Victoria', 'Plymouth', 'Eagan', 'Maple Grove', 'Rogers', 'Saint Paul', 'Dellwood', 'Oakdale', 'Mendota Heights', 'Maplewood', 'Savage', 'Shakopee', 'Cottage Grove', 'Corcoran', 'Chaska', 'Rosemount', 'North Oaks', 'Hugo', 'Medina', 'Apple Valley', 'Prior Lake', 'Lino Lakes', 'Burnsville', 'Rochester', 'Pine Island', 'Forest Lake', 'Andover', 'Ramsey', 'Wanamingo', 'Dayton', 'Center City', 'Roseville', 'Ham Lake', 'Champlin', 'Arden Hills', 'Alexandria', 'Woodbury', 'Inver Grove Heights', 'Badger', 'Lake Elmo', 'Blaine', 'Coon Rapids', 'Carver', 'Grant', 'Bloomington', 'Farmington', 'Eden Prairie', 'North Branch']\n",
      "Simulation5:['Minneapolis', 'Roseville', 'Maplewood', 'Arden Hills', 'Ham Lake', 'Lino Lakes', 'Hugo', 'Cologne', 'Glenville', 'New Brighton', 'Plymouth', 'North Oaks', 'Oakdale', 'Blaine', 'Vadnais Heights', 'Andover', 'Mahtomedi', 'Rosemount', 'Norwood Young America', 'Hermantown', 'Saint Paul', 'Bloomington', 'Monticello', 'Shoreview', 'Saint Anthony', 'Rogers', 'Edina', 'Coon Rapids', 'Eden Prairie', 'Zimmerman', 'Eagan', 'Maple Grove', 'Saint Louis Park', 'Orono', 'Elk River', 'Brooklyn Park', 'Little Canada', 'Paynesville', 'Duluth', 'White Bear Lake', 'Burnsville', 'Woodbury', 'New Prague', 'East Bethel', 'Fridley', 'Stacy', 'Chaska', 'Wyoming', 'Shorewood', 'Stillwater', 'Litchfield', 'North Branch', 'Champlin', 'Inver Grove Heights', 'Cottage Grove', 'Dayton', 'Otsego', 'Lakeville', 'Oak Grove', 'Forest Lake', 'Falcon Heights', 'Chanhassen', 'Ramsey', 'Lindstrom']\n",
      "Simulation6:['Minneapolis', 'Andover', 'Ramsey', 'Saint Michael', 'Brooklyn Park', 'Dellwood', 'Forest Lake', 'Cottage Grove', 'Bloomington', 'Anoka', 'Maple Grove', 'Shakopee', 'Zimmerman', 'Saint Paul', 'Eagan', 'Circle Pines', 'Otsego', 'Rosemount', 'Lilydale', 'Eden Prairie', 'Savage', 'Farmington', 'Lakeville', 'Shoreview', 'Inver Grove Heights', 'Burnsville', 'Chanhassen', 'Red Wing', 'Waite Park', 'Prior Lake']\n",
      "Simulation7:['Minneapolis', 'Roseville', 'Monticello', 'Brooklyn Center', 'Shoreview', 'Elk River', 'Isanti', 'Eagan', 'Blaine', 'Saint Paul', 'Maplewood', 'Forest Lake', 'Hugo', 'Andover', 'Cottage Grove', 'New Hope', 'New Brighton', 'Saint Michael', 'Arden Hills', 'Saint Francis', 'Jordan', 'Ham Lake', 'Lakeville', 'Stacy', 'Otsego', 'Shakopee', 'Saint Martin', 'Fridley', 'Brooklyn Park', 'Chanhassen', 'Falcon Heights', 'Golden Valley', 'Rogers', 'Lake Elmo', 'Wyoming', 'Victoria', 'Oak Park Heights', 'Mound', 'Plymouth', 'Anoka', 'Maple Grove', 'Saint Cloud', 'Bloomington', 'Saint Anthony', 'Bayport', 'North Branch', 'Montrose', 'Champlin', 'Independence', 'Woodbury', 'Little Canada', 'Waverly', 'Eden Prairie', 'Orono', 'Burnsville', 'Corcoran', 'Northfield', 'Rockford', 'Sandstone', 'Ramsey', 'Credit River', 'Coon Rapids', 'Saint Louis Park', 'Milaca', 'Albertville', 'Dayton', 'Farmington', 'Grant', 'Oakdale', 'Prior Lake', 'Rosemount', 'Cambridge', 'Willmar']\n",
      "Simulation8:['Minneapolis', 'Apple Valley', 'Andover', 'Burnsville', 'Woodbury', 'Wayzata', 'Fridley', 'South Saint Paul', 'Dayton', 'Saint Paul', 'Blaine', 'Oakdale', 'Cottage Grove', 'Eden Prairie', 'Northfield', 'Mendota Heights', 'Eagan', 'Savage', 'Otsego', 'Prior Lake', 'Roseville', 'Maple Grove', 'Mahtomedi', 'Hugo', 'Inver Grove Heights', 'Chaska', 'Bloomington', 'Shakopee', 'Lino Lakes', 'Maplewood', 'East Bethel', 'Lake Elmo', 'Farmington', 'Edina', 'Lakeville', 'Mankato', 'West Concord', 'Vadnais Heights', 'Minnetonka', 'Sandstone', 'Willernie', 'North Oaks', 'Plymouth', 'Albertville', 'Falcon Heights', 'Centerville']\n",
      "Simulation9:['Minneapolis', 'Rosemount', 'Shakopee', 'Kenyon', 'Prior Lake', 'Owatonna', 'Elk River', 'Edina', 'Winona', 'Chaska', 'Minnetonka', 'Inver Grove Heights', 'White Bear Lake', 'Apple Valley', 'Corcoran', 'Plymouth', 'Stockton', 'Saint Paul', 'Maplewood', 'Eagan', 'Woodbury', 'Lake Elmo', 'Grant', 'Savage', 'Bloomington', 'Mendota Heights', 'Burnsville', 'Lakeville', 'Eden Prairie', 'Cottage Grove', 'Blaine', 'Roseville', 'Falcon Heights', 'Albertville', 'Chanhassen', 'Otsego', 'Stillwater', 'Farmington', 'Greenwood', 'Independence', 'Hugo', 'Deephaven', 'Faribault', 'East Bethel', 'West Saint Paul', 'Minnetrista', 'Brooklyn Park', 'Andover', 'Saint Marys Point', 'Maple Grove', 'Greenfield', 'Brooklyn Center', 'Orono', 'Afton', 'Saint Cloud', 'Taylors Falls', 'Lino Lakes', 'Hopkins', 'Darwin', 'Coon Rapids', 'Duluth', 'Delano']\n",
      "Simulation10:['Minneapolis', 'Saint Paul', 'Shakopee', 'Andover', 'Ham Lake', 'Shoreview', 'Centerville', 'Ramsey', 'Hugo', 'Eagan', 'Chanhassen', 'Lino Lakes', 'Woodbury', 'Plymouth', 'Maple Grove', 'Bloomington', 'Chaska', 'Golden Valley', 'Eden Prairie', 'Inver Grove Heights', 'Blaine', 'Mankato', 'Vadnais Heights', 'Edina', 'Savage', 'Jordan', 'Circle Pines', 'Minnetrista']\n",
      "Simulation11:['Minneapolis', 'Lino Lakes', 'Brooklyn Park', 'Rosemount', 'Hastings', 'Ham Lake', 'Chisago City', 'Cottage Grove', 'Farmington', 'Burnsville', 'Vadnais Heights', 'New Brighton', 'Lakeville', 'Maplewood', 'Maple Grove', 'Blaine', 'Saint Francis', 'Shoreview', 'Forest Lake', 'Saint Paul', 'Savage', 'Grant', 'Eagan', 'Zimmerman', 'Andover', 'Richfield', 'Arden Hills', 'Red Wing']\n",
      "Simulation12:['Minneapolis', 'Benson', 'Eden Prairie', 'Grant', 'Hastings', 'Richfield', 'Chaska', 'Hugo', 'Bloomington', 'Blaine', 'Roseville', 'Savage', 'Mountain Iron', 'Ham Lake', 'Cottage Grove']\n",
      "Simulation13:['Minneapolis', 'Saint Paul Park', 'Elk River', 'Shakopee', 'Inver Grove Heights', 'Cottage Grove', 'Saint Paul', 'Princeton', 'Plymouth', 'Medina', 'Brooklyn Park', 'Lake Elmo', 'Maple Grove', 'Orono', 'Rock Creek', 'Corcoran', 'Minnetonka', 'Lakeville', 'Albertville', 'Eagan', 'Burnsville', 'Eden Prairie', 'Big Lake', 'Andover', 'Coon Rapids', 'Lonsdale', 'Shorewood', 'East Bethel', 'Montrose', 'Woodbury', 'Rushford', 'Fridley', 'Saint Cloud', 'Rosemount', 'Chaska', 'Heidelberg']\n",
      "Simulation14:['Minneapolis', 'Saint Paul', 'Blaine', 'Dellwood', 'Brooklyn Park', 'New Brighton', 'Vadnais Heights', 'Maple Grove', 'Champlin', 'Andover', 'Brooklyn Center', 'Arden Hills', 'Woodbury', 'Saint Michael', 'Rosemount', 'Minnetonka', 'Eagan', 'Shoreview', 'Ham Lake', 'Fridley', 'Lakeville', 'Elk River', 'Chaska', 'Hugo', 'Victoria', 'Burnsville', 'Wyoming', 'Shorewood', 'Chanhassen', 'Inver Grove Heights', 'Plymouth', 'Saint Francis', 'Oak Grove', 'South Saint Paul', 'Eden Prairie', 'Bloomington', 'Maplewood', 'Lake Elmo', 'Taconite', 'Hastings', 'Rogers', 'Sartell', 'Shakopee', 'Coon Rapids', 'Centerville', 'Circle Pines', 'Saint Louis Park', 'North Branch', 'Orono', 'Mankato', 'Mound', 'Medina', 'Hewitt', 'Waterville', 'Cannon Falls', 'Farmington', 'Otsego', 'Afton', 'Savage', 'Dayton', 'Roseville', 'Chatfield', 'Norwood Young America', 'Grant', 'Anoka', 'Cottage Grove', 'Rochester', 'Stillwater', 'Albertville', 'Saint Cloud', 'Ramsey', 'Little Canada', 'North Oaks', 'Northfield']\n",
      "Simulation15:['Minneapolis', 'Brooklyn Park', 'Blaine', 'Waconia', 'Farmington', 'Otsego', 'Maple Grove', 'Ramsey', 'Saint Michael', 'Coon Rapids', 'Arden Hills', 'Bloomington', 'Forest Lake', 'Little Falls', 'Eden Prairie', 'White Bear Lake', 'Champlin', 'Vadnais Heights', 'Ham Lake', 'Burnsville', 'Minnetonka', 'Inver Grove Heights', 'Okabena', 'Carver']\n",
      "Simulation16:['Minneapolis', 'Mendota Heights', 'Newport', 'Inver Grove Heights', 'Prior Lake', 'Eden Prairie', 'Brooklyn Park', 'Saint Paul', 'Woodbury', 'Cottage Grove', 'Lino Lakes', 'Blaine', 'Minnetrista', 'Shakopee', 'Saint Cloud', 'Minnetonka', 'Maple Grove', 'Elk River', 'Farmington', 'Hastings', 'Lakeville', 'Nowthen', 'Apple Valley', 'Mayer', 'Otsego', 'Circle Pines', 'Le Sueur', 'Saint Anthony', 'Bloomington', 'Burnsville', 'Savage', 'Centerville', 'Anoka', 'Ramsey', 'Eagan', 'Oak Grove', 'Saint Michael', 'Delano', 'Andover', 'Hugo', 'Oakdale', 'Saint Paul Park', 'Buffalo', 'Independence', 'Edina', 'Maplewood', 'Plymouth', 'Dayton']\n",
      "Simulation17:['Minneapolis', 'Crystal', 'Saint Paul', 'Chanhassen', 'Minnetonka', 'Lakeville', 'Lino Lakes', 'Chaska', 'Coon Rapids', 'Orono', 'Stillwater', 'Maple Grove', 'Becker', 'Inver Grove Heights', 'Maple Plain', 'Credit River', 'Lake Saint Croix Beach', 'Medina', 'Oakdale', 'Golden Valley', 'Dayton', 'Brooklyn Park', 'Saint Anthony', 'Andover', 'Woodbury', 'Brooklyn Center', 'Lake Elmo', 'Fridley', 'North Oaks', 'Eden Prairie', 'Bloomington', 'Roseville', 'South Saint Paul', 'Shakopee', 'Plymouth', 'Oak Grove', 'Ham Lake', 'Jordan', 'Pine City', 'Saint Paul Park', 'Columbia Heights', 'Saint Cloud', 'Cambridge', 'Rockville', 'Nowthen', 'Arden Hills', 'Eagan', 'Rosemount', 'Blaine', 'Centerville', 'Hopkins', 'Hugo', 'Chisago City', 'Mahtomedi', 'Monticello', 'Greenfield', 'Rogers', 'Zimmerman', 'Elk River', 'White Bear Lake', 'Burnsville', 'Waconia', 'Owatonna', 'Forest Lake', 'Edina', 'Rochester', 'Lakeland', 'Ramsey', 'Corcoran', 'Anoka', 'Duluth', 'Carver', 'East Bethel', 'Shoreview', 'Wyoming', 'Gem Lake', 'Vadnais Heights', 'Cottage Grove']\n",
      "Simulation18:['Minneapolis', 'Stillwater', 'Maplewood', 'Woodbury', 'Baxter', 'Oakdale', 'Lake Elmo', 'Vadnais Heights', 'Eden Prairie', 'Coon Rapids', 'Cottage Grove', 'Saint Paul', 'Hastings', 'Zimmerman', 'Grant', 'Eagan', 'East Bethel', 'Champlin', 'Shoreview', 'Inver Grove Heights', 'Shorewood', 'Isanti', 'Waconia', 'Hugo', 'Albertville']\n",
      "Simulation19:['Minneapolis', 'Bloomington', 'Edina', 'Apple Valley', 'Minnetonka', 'Maple Grove', 'Plymouth', 'Hanover', 'Woodbury', 'Saint Cloud', 'Rogers', 'Burnsville', 'Medina', 'Orono', 'Waite Park', 'Eagan', 'Cottage Grove', 'Saint Paul', 'Saint Michael', 'Oakdale', 'Champlin', 'Shakopee', 'Marshall', 'Eden Prairie', 'Savage', 'Northfield', 'Corcoran', 'Mayer', 'Lakeville', 'Inver Grove Heights', 'Oak Grove', 'Moorhead', 'Otsego', 'Brooklyn Park']\n",
      "Simulation20:['Minneapolis', 'Burnsville', 'Prior Lake', 'Saint Paul', 'Woodbury', 'Savage', 'Brooklyn Park', 'Eden Prairie', 'Circle Pines', 'Lakeville', 'Blaine', 'Maple Grove', 'Hugo', 'Pine Island', 'Shakopee', 'Eagan', 'Shoreview', 'Elk River', 'Jordan', 'Paynesville', 'New Brighton', 'Otsego', 'Champlin', 'Bloomington', 'Rogers', 'Lino Lakes', 'Dayton', 'Oronoco', 'Inver Grove Heights', 'Little Canada', 'West Saint Paul', 'Newport', 'Chanhassen', 'Forest Lake', 'Arden Hills', 'Robbinsdale', 'Cottage Grove', 'Brainerd', 'Coon Rapids']\n",
      "Simulation21:['Minneapolis', 'Eagan', 'Rosemount', 'Saint Paul Park', 'Shafer', 'Apple Valley', 'Saint Paul', 'Inver Grove Heights', 'Lakeville', 'Maplewood', 'Lake Elmo', 'Brooklyn Park', 'Chaska', 'Eden Prairie', 'Prior Lake', 'Farmington', 'Hugo', 'Oakdale', 'Burnsville', 'Woodbury', 'Chanhassen', 'Medina', 'Forest Lake', 'Saint Michael', 'Waconia', 'Mendota Heights', 'Little Canada', 'Bloomington', 'Savage', 'Elko New Market', 'Plymouth', 'Long Lake', 'Mound', 'Otsego', 'Shakopee', 'Ham Lake', 'Maple Grove', 'Dundas', 'Chisago City', 'Andover', 'Bayport', 'Golden Valley', 'Dayton']\n",
      "Simulation22:['Minneapolis', 'Elk River', 'Morristown', 'Nowthen', 'Arden Hills', 'Saint Paul', 'Minnetonka', 'Shoreview', 'Eagan', 'Golden Valley', 'Hugo', 'Maplewood', 'Shakopee', 'Cloquet', 'New Brighton', 'Mendota Heights', 'Foley', 'Plymouth', 'Eden Prairie', 'Victoria', 'Brooklyn Park', 'Cottage Grove', 'Landfall', 'Burnsville', 'Blaine', 'Saint Louis Park', 'Circle Pines', 'Forest Lake', 'Chisago City', 'Inver Grove Heights', 'Edina', 'Saint Francis', 'Fridley', 'South Saint Paul', 'Chanhassen', 'Rogers', 'Falcon Heights', 'Shorewood', 'Minnetrista', 'Mahtomedi', 'Corcoran']\n",
      "Simulation23:['Minneapolis', 'Chaska', 'Prior Lake', 'Lake Elmo', 'Hanover', 'Rogers', 'South Saint Paul', 'Saint Paul', 'Oakdale', 'Mendota Heights', 'Monticello', 'Mahtomedi', 'Shakopee', 'Rochester', 'Farmington', 'Shoreview', 'Vadnais Heights', 'Belle Plaine', 'Andover', 'Dayton', 'Apple Valley', 'Lilydale', 'Inver Grove Heights', 'Otsego', 'Lino Lakes', 'Rosemount', 'Bloomington', 'Little Canada', 'Carver', 'New Brighton', 'Waite Park', 'Woodbury', 'Coon Rapids', 'Richfield', 'Hugo', 'Eagan', 'Rockford', 'Big Lake', 'Chanhassen', 'Minnetonka', 'Eden Prairie', 'Forest Lake']\n",
      "Simulation24:['Minneapolis', 'Eden Prairie', 'Shakopee', 'Cannon Falls', 'Forest Lake', 'Shoreview', 'Andover', 'Isanti', 'Hugo', 'Waverly', 'Burnsville', 'Blaine', 'Waconia', 'Chaska', 'Rogers', 'Minnetonka', 'Saint Paul', 'Mankato', 'Orono', 'Chisago City', 'Dayton', 'Bloomington', 'West Saint Paul', 'Elk River', 'Apple Valley', 'Cottage Grove', 'Maple Grove', 'Swanville', 'Lino Lakes']\n"
     ]
    },
    {
     "name": "stdout",
     "output_type": "stream",
     "text": [
      "Simulation25:['Minneapolis', 'Maple Grove', 'Rogers', 'Saint Michael', 'Lino Lakes', 'Corcoran', 'Mound', 'Farmington', 'Rosemount', 'Shakopee', 'Hugo', 'Ramsey', 'Saint Francis', 'Prior Lake', 'Apple Valley', 'Aitkin', 'Montgomery', 'Burnsville', 'Inver Grove Heights', 'Bloomington', 'Stillwater', 'Columbus', 'Delano', 'Brooklyn Park', 'Saint Louis Park', 'Victoria', 'Eden Prairie', 'Cottage Grove', 'Lakeville', 'Vadnais Heights', 'Coon Rapids', 'Wyoming', 'Mendota Heights', 'Dayton', 'Coates', 'Andover', 'Greenfield', 'New Prague', 'Hanover', 'North Branch', 'Eagan', 'Saint Paul', 'Chaska', 'Forest Lake', 'Blaine', 'Shorewood', 'Saint Cloud', 'Barnesville', 'Rochester', 'Mankato', 'Orono', 'Benson']\n",
      "Simulation26:['Minneapolis', 'Brooklyn Park', 'Plymouth', 'Lino Lakes', 'Brooten', 'Coon Rapids', 'Oak Park Heights', 'Crystal', 'Saint Paul', 'Maple Grove', 'Eagan', 'Fridley', 'Blaine', 'Shoreview', 'Andover', 'Shakopee', 'Robbinsdale', 'Rosemount', 'Hastings', 'Credit River', 'Lakeville', 'Mounds View', 'Ramsey', 'Bloomington', 'Saint Michael', 'Corcoran', 'Maple Lake', 'Minnetrista', 'Burnsville', 'New Brighton', 'Eden Prairie', 'Maplewood', 'Carver', 'Saint Francis', 'Inver Grove Heights', 'North Oaks', 'Sauk Rapids', 'Mendota Heights', 'Circle Pines', 'Lilydale', 'Farmington', 'Woodbury', 'Apple Valley', 'Duluth', 'Brainerd', 'Vadnais Heights', 'Ham Lake', 'Elk River', 'Grant', 'New Prague', 'Mora', 'Roseville', 'Champlin', 'Cottage Grove', 'Scandia', 'Shorewood', 'Big Lake', 'Hugo', 'Minnetonka', 'Prior Lake', 'Savage', 'Edina', 'Milaca']\n",
      "Simulation27:['Minneapolis', 'Robbinsdale', 'Cottage Grove', 'Lake Elmo', 'Little Canada', 'Eagan', 'Edina', 'Woodbury', 'Bloomington', 'Brooklyn Park', 'North Oaks', 'Saint Paul', 'Ramsey', 'Chaska', 'Andover', 'Vadnais Heights', 'International Falls', 'New Ulm', 'Spring Valley', 'Shoreview', 'Coon Rapids', 'Burnsville', 'Dellwood', 'Hugo', 'Eden Prairie', 'Inver Grove Heights', 'Oak Grove', 'Dayton', 'Oakdale', 'Shakopee', 'Mahtomedi', 'Lakeville', 'Forest Lake', 'Corcoran', 'Rosemount', 'Golden Valley', 'Arden Hills', 'Chanhassen', 'Victoria', 'Maple Grove', 'Rogers', 'White Bear Lake', 'Crystal', 'Saint Anthony', 'Columbia Heights', 'Ham Lake', 'Orono', 'Big Lake', 'Medina', 'Blaine', 'Faribault', 'Oak Park Heights', 'Stillwater', 'Grant', 'Otsego', 'New Brighton']\n",
      "Simulation28:['Minneapolis', 'Roseville', 'Chanhassen', 'Saint Paul', 'Prior Lake', 'Cottage Grove', 'Shakopee', 'Maplewood', 'Elk River', 'Oakdale', 'Bloomington', 'Woodbury', 'Andover', 'North Branch', 'Ramsey', 'Buffalo', 'Shorewood', 'Blaine', 'Stillwater', 'Eden Prairie', 'Burnsville', 'Inver Grove Heights', 'Coon Rapids', 'Rosemount', 'Apple Valley', 'Hastings', 'Corcoran', 'Minnetonka', 'Saint Cloud', 'Eagan', 'Savage', 'Chaska', 'Little Canada', 'Big Lake', 'Credit River', 'Maple Grove', 'Wells', 'Columbia Heights', 'Sartell', 'Dellwood', 'Saint Michael', 'Lake Elmo', 'Anoka', 'Hanover', 'Lilydale', 'East Bethel', 'Wayzata', 'Lakeville', 'Albertville', 'Farmington', 'Grant', 'Pine Island', 'Plymouth']\n",
      "Simulation29:['Minneapolis', 'Eden Prairie', 'Chanhassen', 'Stacy', 'Rochester', 'Prior Lake', 'Woodbury', 'Forest Lake', 'Rosemount', 'Hugo', 'Maple Grove', 'Independence', 'Mound', 'Orono', 'Plymouth', 'Corcoran', 'Victoria', 'Mahtomedi', 'Minnetonka', 'Burnsville', 'Pine Springs', 'Delano', 'Pine Island', 'Rush City', 'Cottage Grove', 'Elk River', 'Blaine', 'Coon Rapids', 'Maplewood', 'Plainview', 'Saint Louis Park', 'Duluth', 'Arden Hills', 'Little Canada', 'Shakopee', 'Saint Paul', 'New Ulm', 'Rogers', 'Ham Lake', 'Hastings', 'New Hope', 'Bloomington', 'Lilydale', 'Lakeville', 'Afton', 'Roseville']\n"
     ]
    }
   ],
   "source": [
    "#run 50 simulations\n",
    "for i in range(0,30):\n",
    "    \n",
    "    PresenceCity = sim_pred(\"City_FromToTable_Final\",\"City_Pred_0\",method = 'H',\n",
    "                              PresenceCity = ['Minneapolis'],num_month = num_month,G = 110,i = i)\n",
    "    \n",
    "    PresenceCity = sim_pred(\"City_FromToTable_Final\",\"City_Pred_1\",method = 'H',PresenceCity = PresenceCity, num_month = 1, G = 110,i = i)\n",
    "    PresenceCity = sim_pred(\"City_FromToTable_Final\",\"City_Pred_2\",method = 'H',PresenceCity = PresenceCity, num_month = 1, G = 110,i = i)\n",
    "    PresenceCity = sim_pred(\"City_FromToTable_Final\",\"City_Pred_3\",method = 'H',PresenceCity = PresenceCity, num_month = 1, G = 110,i = i)"
   ]
  },
  {
   "cell_type": "code",
   "execution_count": 116,
   "metadata": {},
   "outputs": [
    {
     "data": {
      "text/html": [
       "<div class='gpresult'><h2>Messages</h2><div id='messages' data-messages='[\"Start Time: Wednesday, May 3, 2023 12:27:13 PM\",\"Succeeded at Wednesday, May 3, 2023 12:27:16 PM (Elapsed Time: 2.63 seconds)\"]' data-show='true'><div id = 'default' /></div></div>"
      ],
      "text/plain": [
       "<Result 'City_Pred_3'>"
      ]
     },
     "execution_count": 116,
     "metadata": {},
     "output_type": "execute_result"
    }
   ],
   "source": [
    "#get the simulation final prediction\n",
    "arcpy.management.AddField(\"City_Pred_0\", f\"Pred_H\", \"SHORT\")\n",
    "arcpy.management.AddField(\"City_Pred_1\", f\"Pred_H\", \"SHORT\")\n",
    "arcpy.management.AddField(\"City_Pred_2\", f\"Pred_H\", \"SHORT\")\n",
    "arcpy.management.AddField(\"City_Pred_3\", f\"Pred_H\", \"SHORT\")\n",
    "\n",
    "final_result(\"City_Pred_0\",method = 'H')        \n",
    "#delete unnecessary columns\n",
    "arcpy.management.DeleteField(\"City_Pred_0\", \"CITY_NAME;POPULATION;Pred_MC;Pred_G;Pred_H\", \"KEEP_FIELDS\")\n",
    "\n",
    "final_result(\"City_Pred_1\",method = 'H')\n",
    "#delete unnecessary columns\n",
    "arcpy.management.DeleteField(\"City_Pred_1\", \"CITY_NAME;POPULATION;Pred_MC;Pred_G;Pred_H\", \"KEEP_FIELDS\")\n",
    "\n",
    "final_result(\"City_Pred_2\",method = 'H')\n",
    "#delete unnecessary columns\n",
    "arcpy.management.DeleteField(\"City_Pred_2\", \"CITY_NAME;POPULATION;Pred_MC;Pred_G;Pred_H\", \"KEEP_FIELDS\")\n",
    "\n",
    "final_result(\"City_Pred_3\",method = 'H')\n",
    "#delete unnecessary columns\n",
    "arcpy.management.DeleteField(\"City_Pred_3\", \"CITY_NAME;POPULATION;Pred_MC;Pred_G;Pred_H\", \"KEEP_FIELDS\")"
   ]
  },
  {
   "cell_type": "markdown",
   "metadata": {},
   "source": [
    "### Assessment comparision for three models"
   ]
  },
  {
   "cell_type": "code",
   "execution_count": 100,
   "metadata": {},
   "outputs": [],
   "source": [
    "#Spatial Join BMSB with CITYNAME AND POPULATION for further assessment\n",
    "arcpy.SpatialJoin_analysis('bmsb', \"City_qaqc_done\", 'bmsb_SpatialJoin',join_operation=\"JOIN_ONE_TO_ONE\", match_option = \"CLOSEST_GEODESIC\")\n",
    "\n",
    "# get true presence cities\n",
    "bmsb_city = []\n",
    "with arcpy.da.SearchCursor(\"bmsb_SpatialJoin\", [\"CITY_NAME\"]) as cursor:\n",
    "    for row in cursor:\n",
    "        if row[0] is not None:\n",
    "            bmsb_city.append(row[0])\n",
    "            \n",
    "bmsb_city = list(set(bmsb_city))"
   ]
  },
  {
   "cell_type": "code",
   "execution_count": 101,
   "metadata": {},
   "outputs": [
    {
     "data": {
      "text/plain": [
       "['Brooklyn Park', 'Minneapolis', 'Prior Lake', 'Saint Cloud', 'Victoria', 'Edina', 'Wyoming', 'Grant', 'North Mankato', 'Maplewood', 'Rosemount', 'Roseville', 'Cannon Falls', 'Afton', 'Carver', 'Woodbury', 'Cottage Grove', 'Apple Valley', 'Empire', 'Farmington', 'Jordan', 'Shoreview', 'Blaine', 'Hastings', 'Saint Paul', 'Northfield']"
      ]
     },
     "execution_count": 101,
     "metadata": {},
     "output_type": "execute_result"
    }
   ],
   "source": [
    "bmsb_city"
   ]
  },
  {
   "cell_type": "code",
   "execution_count": 117,
   "metadata": {},
   "outputs": [],
   "source": [
    "#confusion matrix\n",
    "def get_ConfusionMatrix(pred,name,truth,TP,TN,FP,FN):\n",
    "    if (pred == 1) and (name in truth):\n",
    "        TP +=1\n",
    "    elif (pred == 0) and (name not in truth):\n",
    "        TN +=1\n",
    "    elif (pred == 1) and (name not in truth):\n",
    "        FP +=1\n",
    "    elif (pred == 0) and (name in truth):\n",
    "        FN +=1\n",
    "    return TP,TN,FP,FN\n",
    "\n",
    "TP_G,TN_G,FP_G,FN_G = 0,0,0,0\n",
    "TP_MC,TN_MC,FP_MC,FN_MC = 0,0,0,0\n",
    "TP_H,TN_H,FP_H,FN_H = 0,0,0,0\n",
    "\n",
    "with arcpy.da.SearchCursor(\"City_Pred_0\", [\"CITY_NAME\",\"Pred_G\",'Pred_MC','Pred_H']) as cursor:\n",
    "    for row in cursor:\n",
    "        TP_G,TN_G,FP_G,FN_G = get_ConfusionMatrix(row[1],row[0],bmsb_city,TP_G,TN_G,FP_G,FN_G)\n",
    "        TP_MC,TN_MC,FP_MC,FN_MC = get_ConfusionMatrix(row[2],row[0],bmsb_city,TP_MC,TN_MC,FP_MC,FN_MC)\n",
    "        TP_H,TN_H,FP_H,FN_H = get_ConfusionMatrix(row[3],row[0],bmsb_city,TP_H,TN_H,FP_H,FN_H)"
   ]
  },
  {
   "cell_type": "code",
   "execution_count": 118,
   "metadata": {},
   "outputs": [
    {
     "name": "stdout",
     "output_type": "stream",
     "text": [
      "The accuracy for monte carlo model is:0.9437939110070258\n",
      "The accuracy for gravity model is:0.9566744730679156\n",
      "The accuracy for huff model is:0.9590163934426229\n",
      "The precision for monte carlo model is:0.15625\n",
      "The precision for gravity model is:0.3225806451612903\n",
      "The precision for huff model is:0.3448275862068966\n",
      "The recall for monte carlo model is:0.19230769230769232\n",
      "The recall for gravity model is:0.38461538461538464\n",
      "The recall for huff model is:0.38461538461538464\n"
     ]
    }
   ],
   "source": [
    "#accuracy\n",
    "accuracy_MC =  (TP_MC + TN_MC) / (TP_MC + TN_MC + FP_MC + FN_MC)\n",
    "accuracy_G =  (TP_G + TN_G) / (TP_G + TN_G + FP_G + FN_G)\n",
    "accuracy_H =  (TP_H + TN_H) / (TP_H + TN_H + FP_H + FN_H)\n",
    "print(f\"The accuracy for monte carlo model is:{accuracy_MC}\")\n",
    "print(f\"The accuracy for gravity model is:{accuracy_G}\")\n",
    "print(f\"The accuracy for huff model is:{accuracy_H}\")\n",
    "\n",
    "#precision\n",
    "precision_MC = TP_MC / (TP_MC + FP_MC)\n",
    "precision_G = TP_G / (TP_G + FP_G)\n",
    "precision_H = TP_H / (TP_H + FP_H)\n",
    "print(f\"The precision for monte carlo model is:{precision_MC}\")\n",
    "print(f\"The precision for gravity model is:{precision_G}\")\n",
    "print(f\"The precision for huff model is:{precision_H}\")\n",
    "\n",
    "#recall\n",
    "recall_MC = TP_MC / (TP_MC + FN_MC)\n",
    "recall_G = TP_G / (TP_G + FN_G)\n",
    "recall_H = TP_H / (TP_H + FN_H)\n",
    "print(f\"The recall for monte carlo model is:{recall_MC}\")\n",
    "print(f\"The recall for gravity model is:{recall_G}\")\n",
    "print(f\"The recall for huff model is:{recall_H}\")"
   ]
  },
  {
   "cell_type": "markdown",
   "metadata": {},
   "source": [
    "### Get the priority monitoring city"
   ]
  },
  {
   "cell_type": "code",
   "execution_count": 122,
   "metadata": {},
   "outputs": [],
   "source": [
    "#first priority cities (FP in 2021)\n",
    "# get true presence cities\n",
    "city2021 = []\n",
    "with arcpy.da.SearchCursor(\"City_Pred_0\", [\"CITY_NAME\",'Pred_H']) as cursor:\n",
    "    for row in cursor:\n",
    "        if row[1] == 1 and row[0] not in bmsb_city:\n",
    "            city2021.append(row[0])\n",
    "\n",
    "#second priority cities (will spread in 2022)\n",
    "city2022 = []\n",
    "with arcpy.da.SearchCursor(\"City_Pred_1\", [\"CITY_NAME\",'Pred_H']) as cursor:\n",
    "    for row in cursor:\n",
    "        if row[1] == 1 and row[0] not in bmsb_city and row[0] not in city2021:\n",
    "            city2022.append(row[0])\n",
    "\n",
    "#third priority cities (will spread in 2023)\n",
    "city2023 = []\n",
    "with arcpy.da.SearchCursor(\"City_Pred_2\", [\"CITY_NAME\",'Pred_H']) as cursor:\n",
    "    for row in cursor:\n",
    "        if row[1] == 1 and row[0] not in bmsb_city and row[0] not in city2021 and row[0] not in city2022:\n",
    "            city2023.append(row[0])\n",
    "            \n",
    "#forth priority cities (will spread in 2024)\n",
    "city2024 = []\n",
    "with arcpy.da.SearchCursor(\"City_Pred_3\", [\"CITY_NAME\",'Pred_H']) as cursor:\n",
    "    for row in cursor:\n",
    "        if row[1] == 1 and row[0] not in bmsb_city and row[0] not in city2021 and row[0] not in city2022 and row[0] not in city2023:\n",
    "            city2024.append(row[0])"
   ]
  },
  {
   "cell_type": "code",
   "execution_count": 123,
   "metadata": {},
   "outputs": [],
   "source": [
    "arcpy.management.AddField(\"City_qaqc_done\", f\"Priority\", \"SHORT\")\n",
    "with arcpy.da.UpdateCursor(\"City_qaqc_done\", [\"CITY_NAME\",'Priority']) as cursor:\n",
    "    for row in cursor:\n",
    "        if row[0] in city2021:\n",
    "            row[1] = 5\n",
    "        elif row[0] in city2022:\n",
    "            row[1] = 4\n",
    "        elif row[0] in city2023:\n",
    "            row[1] = 3\n",
    "        elif row[0] in city2024:\n",
    "            row[1] = 2\n",
    "        else:\n",
    "            row[1] = 1\n",
    "        cursor.updateRow(row)"
   ]
  },
  {
   "cell_type": "code",
   "execution_count": null,
   "metadata": {},
   "outputs": [],
   "source": []
  },
  {
   "cell_type": "code",
   "execution_count": 119,
   "metadata": {},
   "outputs": [
    {
     "data": {
      "text/plain": [
       "(10, 807, 21, 16)"
      ]
     },
     "execution_count": 119,
     "metadata": {},
     "output_type": "execute_result"
    }
   ],
   "source": [
    "TP_G,TN_G,FP_G,FN_G"
   ]
  },
  {
   "cell_type": "code",
   "execution_count": 120,
   "metadata": {
    "scrolled": true
   },
   "outputs": [
    {
     "data": {
      "text/plain": [
       "(5, 801, 27, 21)"
      ]
     },
     "execution_count": 120,
     "metadata": {},
     "output_type": "execute_result"
    }
   ],
   "source": [
    "TP_MC,TN_MC,FP_MC,FN_MC"
   ]
  },
  {
   "cell_type": "code",
   "execution_count": 121,
   "metadata": {},
   "outputs": [
    {
     "data": {
      "text/plain": [
       "(10, 809, 19, 16)"
      ]
     },
     "execution_count": 121,
     "metadata": {},
     "output_type": "execute_result"
    }
   ],
   "source": [
    "TP_H,TN_H,FP_H,FN_H"
   ]
  }
 ],
 "metadata": {
  "kernelspec": {
   "display_name": "ArcGISPro",
   "language": "Python",
   "name": "python3"
  },
  "language_info": {
   "file_extension": ".py",
   "name": "python",
   "version": "3"
  }
 },
 "nbformat": 4,
 "nbformat_minor": 2
}
