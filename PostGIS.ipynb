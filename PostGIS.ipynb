{
 "cells": [
  {
   "cell_type": "code",
   "execution_count": 6,
   "metadata": {},
   "outputs": [],
   "source": [
    "import psycopg2\n",
    "import arcpy"
   ]
  },
  {
   "cell_type": "code",
   "execution_count": 26,
   "metadata": {},
   "outputs": [
    {
     "name": "stdout",
     "output_type": "stream",
     "text": [
      "Return code: 0\n",
      "Error message: could not print result table: Invalid argument\n",
      "Field population is an FTDouble with width 10 and precision 0\n",
      "Shapefile type: Point\n",
      "Postgis type: POINT[2]\n",
      "\n"
     ]
    }
   ],
   "source": [
    "import subprocess\n",
    "import os\n",
    "\n",
    "# Set the necessary parameters\n",
    "shp2pgsql_path = r\"C:\\Program Files\\PostgreSQL\\15\\bin\\shp2pgsql.exe\"\n",
    "psql_path = r\"C:\\Program Files\\PostgreSQL\\15\\bin\\psql.exe\"\n",
    "shapefile_path = r\"C:\\BMSB_result_v2\\City_Pred_0.shp\"\n",
    "srid = 4326\n",
    "schema_table = \"public.City_pred_0\"\n",
    "host = \"spatialdb.gisandbox.org\"\n",
    "port = 5432\n",
    "user = \"wang8837\"\n",
    "db_name = \"wang8837\"\n",
    "password = \"student\"\n",
    "\n",
    "# Build the shp2pgsql command\n",
    "shp2pgsql_command = f\"\\\"{shp2pgsql_path}\\\" -s {srid} {shapefile_path} {schema_table}\"\n",
    "\n",
    "# Build the psql command\n",
    "psql_command = f\"\\\"{psql_path}\\\" -h {host} -p {port} -U {user} -d {db_name} -w\"\n",
    "\n",
    "# Combine the commands using a pipe\n",
    "full_command = f\"{shp2pgsql_command} | {psql_command}\"\n",
    "\n",
    "# Set up the environment with the password\n",
    "env = os.environ.copy()\n",
    "env[\"PGPASSWORD\"] = password\n",
    "\n",
    "# Run the command using the subprocess module and capture stderr\n",
    "process = subprocess.Popen(full_command, shell=True, env=env, stderr=subprocess.PIPE)    \n",
    "\n",
    "# Wait for the process to finish and capture the return code and stderr\n",
    "return_code = process.wait()\n",
    "stderr_output = process.stderr.read().decode()\n",
    "\n",
    "# Print the return code and error message\n",
    "print(f\"Return code: {return_code}\")\n",
    "print(f\"Error message: {stderr_output}\")"
   ]
  },
  {
   "cell_type": "code",
   "execution_count": 27,
   "metadata": {},
   "outputs": [
    {
     "name": "stdout",
     "output_type": "stream",
     "text": [
      "Return code: 0\n",
      "Error message: could not print result table: Invalid argument\n",
      "Field population is an FTDouble with width 10 and precision 0\n",
      "Shapefile type: Point\n",
      "Postgis type: POINT[2]\n",
      "\n"
     ]
    }
   ],
   "source": [
    "import subprocess\n",
    "import os\n",
    "\n",
    "# Set the necessary parameters\n",
    "shp2pgsql_path = r\"C:\\Program Files\\PostgreSQL\\15\\bin\\shp2pgsql.exe\"\n",
    "psql_path = r\"C:\\Program Files\\PostgreSQL\\15\\bin\\psql.exe\"\n",
    "shapefile_path = r\"C:\\BMSB_result_v2\\City_Pred_1.shp\"\n",
    "srid = 4326\n",
    "schema_table = \"public.City_Pred_1\"\n",
    "host = \"spatialdb.gisandbox.org\"\n",
    "port = 5432\n",
    "user = \"wang8837\"\n",
    "db_name = \"wang8837\"\n",
    "password = \"student\"\n",
    "\n",
    "# Build the shp2pgsql command\n",
    "shp2pgsql_command = f\"\\\"{shp2pgsql_path}\\\" -s {srid} {shapefile_path} {schema_table}\"\n",
    "\n",
    "# Build the psql command\n",
    "psql_command = f\"\\\"{psql_path}\\\" -h {host} -p {port} -U {user} -d {db_name} -w\"\n",
    "\n",
    "# Combine the commands using a pipe\n",
    "full_command = f\"{shp2pgsql_command} | {psql_command}\"\n",
    "\n",
    "# Set up the environment with the password\n",
    "env = os.environ.copy()\n",
    "env[\"PGPASSWORD\"] = password\n",
    "\n",
    "# Run the command using the subprocess module and capture stderr\n",
    "process = subprocess.Popen(full_command, shell=True, env=env, stderr=subprocess.PIPE)\n",
    "\n",
    "# Wait for the process to finish and capture the return code and stderr\n",
    "return_code = process.wait()\n",
    "stderr_output = process.stderr.read().decode()\n",
    "\n",
    "# Print the return code and error message\n",
    "print(f\"Return code: {return_code}\")\n",
    "print(f\"Error message: {stderr_output}\")"
   ]
  },
  {
   "cell_type": "code",
   "execution_count": 29,
   "metadata": {},
   "outputs": [
    {
     "name": "stdout",
     "output_type": "stream",
     "text": [
      "Return code: 0\n",
      "Error message: could not print result table: Invalid argument\n",
      "Field population is an FTDouble with width 10 and precision 0\n",
      "Shapefile type: Point\n",
      "Postgis type: POINT[2]\n",
      "\n"
     ]
    }
   ],
   "source": [
    "import subprocess\n",
    "import os\n",
    "\n",
    "# Set the necessary parameters\n",
    "shp2pgsql_path = r\"C:\\Program Files\\PostgreSQL\\15\\bin\\shp2pgsql.exe\"\n",
    "psql_path = r\"C:\\Program Files\\PostgreSQL\\15\\bin\\psql.exe\"\n",
    "shapefile_path = r\"C:\\BMSB_result_v2\\City_Pred_2.shp\"\n",
    "srid = 4326\n",
    "schema_table = \"public.City_Pred_2\"\n",
    "host = \"spatialdb.gisandbox.org\"\n",
    "port = 5432\n",
    "user = \"wang8837\"\n",
    "db_name = \"wang8837\"\n",
    "password = \"student\"\n",
    "\n",
    "# Build the shp2pgsql command\n",
    "shp2pgsql_command = f\"\\\"{shp2pgsql_path}\\\" -s {srid} {shapefile_path} {schema_table}\"\n",
    "\n",
    "# Build the psql command\n",
    "psql_command = f\"\\\"{psql_path}\\\" -h {host} -p {port} -U {user} -d {db_name} -w\"\n",
    "\n",
    "# Combine the commands using a pipe\n",
    "full_command = f\"{shp2pgsql_command} | {psql_command}\"\n",
    "\n",
    "# Set up the environment with the password\n",
    "env = os.environ.copy()\n",
    "env[\"PGPASSWORD\"] = password\n",
    "\n",
    "# Run the command using the subprocess module and capture stderr\n",
    "process = subprocess.Popen(full_command, shell=True, env=env, stderr=subprocess.PIPE)\n",
    "\n",
    "# Wait for the process to finish and capture the return code and stderr\n",
    "return_code = process.wait()\n",
    "stderr_output = process.stderr.read().decode()\n",
    "\n",
    "# Print the return code and error message\n",
    "print(f\"Return code: {return_code}\")\n",
    "print(f\"Error message: {stderr_output}\")"
   ]
  },
  {
   "cell_type": "code",
   "execution_count": 30,
   "metadata": {},
   "outputs": [
    {
     "name": "stdout",
     "output_type": "stream",
     "text": [
      "Return code: 0\n",
      "Error message: could not print result table: Invalid argument\n",
      "Field population is an FTDouble with width 10 and precision 0\n",
      "Shapefile type: Point\n",
      "Postgis type: POINT[2]\n",
      "\n"
     ]
    }
   ],
   "source": [
    "import subprocess\n",
    "import os\n",
    "\n",
    "# Set the necessary parameters\n",
    "shp2pgsql_path = r\"C:\\Program Files\\PostgreSQL\\15\\bin\\shp2pgsql.exe\"\n",
    "psql_path = r\"C:\\Program Files\\PostgreSQL\\15\\bin\\psql.exe\"\n",
    "shapefile_path = r\"C:\\BMSB_result_v2\\City_Pred_3.shp\"\n",
    "srid = 4326\n",
    "schema_table = \"public.City_Pred_3\"\n",
    "host = \"spatialdb.gisandbox.org\"\n",
    "port = 5432\n",
    "user = \"wang8837\"\n",
    "db_name = \"wang8837\"\n",
    "password = \"student\"\n",
    "\n",
    "# Build the shp2pgsql command\n",
    "shp2pgsql_command = f\"\\\"{shp2pgsql_path}\\\" -s {srid} {shapefile_path} {schema_table}\"\n",
    "\n",
    "# Build the psql command\n",
    "psql_command = f\"\\\"{psql_path}\\\" -h {host} -p {port} -U {user} -d {db_name} -w\"\n",
    "\n",
    "# Combine the commands using a pipe\n",
    "full_command = f\"{shp2pgsql_command} | {psql_command}\"\n",
    "\n",
    "# Set up the environment with the password\n",
    "env = os.environ.copy()\n",
    "env[\"PGPASSWORD\"] = password\n",
    "\n",
    "# Run the command using the subprocess module and capture stderr\n",
    "process = subprocess.Popen(full_command, shell=True, env=env, stderr=subprocess.PIPE)\n",
    "\n",
    "# Wait for the process to finish and capture the return code and stderr\n",
    "return_code = process.wait()\n",
    "stderr_output = process.stderr.read().decode()\n",
    "\n",
    "# Print the return code and error message\n",
    "print(f\"Return code: {return_code}\")\n",
    "print(f\"Error message: {stderr_output}\")"
   ]
  },
  {
   "cell_type": "code",
   "execution_count": 31,
   "metadata": {},
   "outputs": [
    {
     "name": "stdout",
     "output_type": "stream",
     "text": [
      "Return code: 0\n",
      "Error message: could not print result table: Invalid argument\n",
      "Field population is an FTDouble with width 10 and precision 0\n",
      "Shapefile type: Polygon\n",
      "Postgis type: MULTIPOLYGON[2]\n",
      "\n"
     ]
    }
   ],
   "source": [
    "import subprocess\n",
    "import os\n",
    "\n",
    "# Set the necessary parameters\n",
    "shp2pgsql_path = r\"C:\\Program Files\\PostgreSQL\\15\\bin\\shp2pgsql.exe\"\n",
    "psql_path = r\"C:\\Program Files\\PostgreSQL\\15\\bin\\psql.exe\"\n",
    "shapefile_path = r\"C:\\BMSB_result_v2\\City_qaqc_done.shp\"\n",
    "srid = 4326\n",
    "schema_table = \"public.Stinkbug_Priority\"\n",
    "host = \"spatialdb.gisandbox.org\"\n",
    "port = 5432\n",
    "user = \"wang8837\"\n",
    "db_name = \"wang8837\"\n",
    "password = \"student\"\n",
    "\n",
    "# Build the shp2pgsql command\n",
    "shp2pgsql_command = f\"\\\"{shp2pgsql_path}\\\" -s {srid} {shapefile_path} {schema_table}\"\n",
    "\n",
    "# Build the psql command\n",
    "psql_command = f\"\\\"{psql_path}\\\" -h {host} -p {port} -U {user} -d {db_name} -w\"\n",
    "\n",
    "# Combine the commands using a pipe\n",
    "full_command = f\"{shp2pgsql_command} | {psql_command}\"\n",
    "\n",
    "# Set up the environment with the password\n",
    "env = os.environ.copy()\n",
    "env[\"PGPASSWORD\"] = password\n",
    "\n",
    "# Run the command using the subprocess module and capture stderr\n",
    "process = subprocess.Popen(full_command, shell=True, env=env, stderr=subprocess.PIPE)\n",
    "\n",
    "# Wait for the process to finish and capture the return code and stderr\n",
    "return_code = process.wait()\n",
    "stderr_output = process.stderr.read().decode()\n",
    "\n",
    "# Print the return code and error message\n",
    "print(f\"Return code: {return_code}\")\n",
    "print(f\"Error message: {stderr_output}\")"
   ]
  },
  {
   "cell_type": "code",
   "execution_count": null,
   "metadata": {},
   "outputs": [],
   "source": []
  }
 ],
 "metadata": {
  "kernelspec": {
   "display_name": "ArcGISPro",
   "language": "Python",
   "name": "python3"
  },
  "language_info": {
   "file_extension": ".py",
   "name": "python",
   "version": "3"
  }
 },
 "nbformat": 4,
 "nbformat_minor": 2
}
